{
  "nbformat": 4,
  "nbformat_minor": 0,
  "metadata": {
    "colab": {
      "provenance": [],
      "gpuType": "T4"
    },
    "kernelspec": {
      "name": "python3",
      "display_name": "Python 3"
    },
    "language_info": {
      "name": "python"
    },
    "accelerator": "GPU"
  },
  "cells": [
    {
      "cell_type": "code",
      "execution_count": 11,
      "metadata": {
        "id": "2EuE8RjOwOMI"
      },
      "outputs": [],
      "source": [
        "import tensorflow as tf\n",
        "from tensorflow.keras.layers import Dense,Flatten,Conv2D"
      ]
    },
    {
      "cell_type": "code",
      "source": [
        "mnist = tf.keras.datasets.mnist\n",
        "\n",
        "(x_train, y_train), (x_test, y_test) = mnist.load_data()\n",
        "x_train = x_train / 255.0\n",
        "x_test = x_test / 255.0\n",
        "\n",
        "x_train =  x_train [...,tf.newaxis]\n",
        "x_test =  x_test [...,tf.newaxis]"
      ],
      "metadata": {
        "id": "_SFx7TROwsYC"
      },
      "execution_count": 12,
      "outputs": []
    },
    {
      "cell_type": "code",
      "source": [
        "type(x_train[0][0,0,0])"
      ],
      "metadata": {
        "colab": {
          "base_uri": "https://localhost:8080/"
        },
        "id": "jDm_vv4axj6r",
        "outputId": "d3c9f61c-e108-4e7d-cd55-a54a139ecbe3"
      },
      "execution_count": 13,
      "outputs": [
        {
          "output_type": "execute_result",
          "data": {
            "text/plain": [
              "numpy.float64"
            ]
          },
          "metadata": {},
          "execution_count": 13
        }
      ]
    },
    {
      "cell_type": "code",
      "source": [
        "train_data = tf.data.Dataset.from_tensor_slices((x_train, y_train)).shuffle(1000).batch(32)\n",
        "test_data = tf.data.Dataset.from_tensor_slices((x_test, y_test)).batch(32)"
      ],
      "metadata": {
        "id": "dBIcrlUpxrNh"
      },
      "execution_count": 14,
      "outputs": []
    },
    {
      "cell_type": "code",
      "source": [
        "class Model(tf.keras.Model):\n",
        "  def __init__(self):\n",
        "    super().__init__()\n",
        "    self.conv1 = Conv2D(32,3,activation=\"relu\")\n",
        "    self.flatten = Flatten()\n",
        "    self.dense1 = Dense(128,activation=\"relu\")\n",
        "    self.dense2 = Dense(10)\n",
        "\n",
        "  def call(self,x):\n",
        "     x = self.conv1(x)\n",
        "     x = self.flatten(x)\n",
        "     x = self.dense1(x)\n",
        "     x = self.dense2(x)\n",
        "     return x\n",
        "\n",
        "model = Model()"
      ],
      "metadata": {
        "id": "eJNKhOGExrMb"
      },
      "execution_count": 15,
      "outputs": []
    },
    {
      "cell_type": "code",
      "source": [
        "loss_functio = tf.keras.losses.SparseCategoricalCrossentropy(from_logits=True)\n",
        "optimizer = tf.keras.optimizers.Adam()"
      ],
      "metadata": {
        "id": "uAdv9HCrzFmC"
      },
      "execution_count": 16,
      "outputs": []
    },
    {
      "cell_type": "code",
      "source": [
        "train_loss = tf.keras.metrics.Mean()\n",
        "train_accuracy = tf.keras.metrics.SparseCategoricalAccuracy()\n",
        "\n",
        "test_loss = tf.keras.metrics.Mean()\n",
        "test_accuracy = tf.keras.metrics.SparseCategoricalAccuracy()"
      ],
      "metadata": {
        "id": "4uRNMKAE4ai8"
      },
      "execution_count": 17,
      "outputs": []
    },
    {
      "cell_type": "code",
      "source": [
        "@tf.function\n",
        "def train(imagse,labels):\n",
        "    with tf.GradientTape() as tape:\n",
        "        pred = model(imagse)\n",
        "        loss = loss_functio(labels,pred)\n",
        "    gradients = tape.gradient(loss,model.trainable_variables)\n",
        "    optimizer.apply_gradients(zip(gradients, model.trainable_variables))\n",
        "\n",
        "    train_loss(loss)\n",
        "    train_accuracy(labels,pred)"
      ],
      "metadata": {
        "id": "EoIKDNC-CwiF"
      },
      "execution_count": 18,
      "outputs": []
    },
    {
      "cell_type": "code",
      "source": [
        "@tf.function\n",
        "def test(imagse,labels):\n",
        "        pred = model(imagse)\n",
        "        loss = loss_functio(labels,pred)\n",
        "        test_loss(loss)\n",
        "        test_accuracy(labels,pred)"
      ],
      "metadata": {
        "id": "xT51TabXDa3C"
      },
      "execution_count": 19,
      "outputs": []
    },
    {
      "cell_type": "code",
      "source": [
        "epochs = 6\n",
        "for epoch in range(epochs):\n",
        "  train_loss.reset_states()\n",
        "  train_accuracy.reset_states()\n",
        "  test_loss.reset_states()\n",
        "  test_accuracy.reset_states()\n",
        "\n",
        "  for imagse , labels in train_data:\n",
        "    train(imagse,labels)\n",
        "\n",
        "  for imagse , labels in test_data:\n",
        "    test(imagse,labels)\n",
        "\n",
        "  print(\"epoch :\" ,epoch + 1,\n",
        "        f\"Train Loss :{train_loss.result()}\",\n",
        "        f\"Train accuracy:{train_accuracy.result()}\",\n",
        "        f\"Test Loss :   {test_loss.result()}\",\n",
        "        f\"Test accuracy:{test_accuracy.result()}\")\n"
      ],
      "metadata": {
        "colab": {
          "base_uri": "https://localhost:8080/"
        },
        "id": "y-JXFXIu45kv",
        "outputId": "70c312ce-6b92-4088-9e3a-2b882a735947"
      },
      "execution_count": 22,
      "outputs": [
        {
          "output_type": "stream",
          "name": "stdout",
          "text": [
            "epoch : 1 Train Loss :0.013233217410743237 Train accuracy:0.9957500100135803 Test Loss :   0.05517441779375076 Test accuracy:0.9839000105857849\n",
            "epoch : 2 Train Loss :0.010493618436157703 Train accuracy:0.9963333606719971 Test Loss :   0.060939472168684006 Test accuracy:0.9836000204086304\n",
            "epoch : 3 Train Loss :0.006334445904940367 Train accuracy:0.9978333115577698 Test Loss :   0.07295738905668259 Test accuracy:0.9824000000953674\n",
            "epoch : 4 Train Loss :0.006924728862941265 Train accuracy:0.9978166818618774 Test Loss :   0.07743749767541885 Test accuracy:0.9818000197410583\n",
            "epoch : 5 Train Loss :0.0055735171772539616 Train accuracy:0.9982333183288574 Test Loss :   0.07204453647136688 Test accuracy:0.9847999811172485\n",
            "epoch : 6 Train Loss :0.00373273529112339 Train accuracy:0.9988833069801331 Test Loss :   0.08158309757709503 Test accuracy:0.9839000105857849\n"
          ]
        }
      ]
    },
    {
      "cell_type": "code",
      "source": [
        "import cv2\n",
        "import numpy as np\n",
        "image = cv2.imread(\"sample_image.png\")\n",
        "image = cv2.cvtColor(image,cv2.COLOR_BGR2GRAY)\n",
        "image = cv2.resize(image,(28,28))\n",
        "image = image[...,tf.newaxis]\n",
        "image = image [tf.newaxis,...]\n",
        "image = image.astype(\"float32\")\n",
        "\n",
        "prad = model(image)\n",
        "result = np.argmax(prad)\n",
        "result"
      ],
      "metadata": {
        "colab": {
          "base_uri": "https://localhost:8080/"
        },
        "id": "hzs1Sr1JF2T6",
        "outputId": "19f402c4-0b11-4709-af17-70ec183f21fc"
      },
      "execution_count": 25,
      "outputs": [
        {
          "output_type": "execute_result",
          "data": {
            "text/plain": [
              "7"
            ]
          },
          "metadata": {},
          "execution_count": 25
        }
      ]
    },
    {
      "cell_type": "code",
      "source": [
        "model.save(\"model\")\n",
        "model = tf.keras.models.load_model(\"model\")"
      ],
      "metadata": {
        "colab": {
          "base_uri": "https://localhost:8080/"
        },
        "id": "r7p2QQcDHX19",
        "outputId": "3ac6b1c2-efad-4f40-cac3-79a83e028af2"
      },
      "execution_count": 26,
      "outputs": [
        {
          "output_type": "stream",
          "name": "stderr",
          "text": [
            "WARNING:tensorflow:No training configuration found in save file, so the model was *not* compiled. Compile it manually.\n"
          ]
        }
      ]
    }
  ]
}