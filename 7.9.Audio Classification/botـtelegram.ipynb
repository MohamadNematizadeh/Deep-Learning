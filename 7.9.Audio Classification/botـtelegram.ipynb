{
  "cells": [
    {
      "cell_type": "code",
      "execution_count": 1,
      "metadata": {
        "id": "0pef7TMmJRc8"
      },
      "outputs": [],
      "source": [
        "!pip install -q telebot"
      ]
    },
    {
      "cell_type": "code",
      "execution_count": null,
      "metadata": {
        "id": "mZQjTH7sKUxy"
      },
      "outputs": [],
      "source": [
        "!pip install -q opencv-python"
      ]
    },
    {
      "cell_type": "code",
      "execution_count": 2,
      "metadata": {
        "id": "lGC2VBACyLqk"
      },
      "outputs": [],
      "source": [
        "SAMPLE_RATE = 48000"
      ]
    },
    {
      "cell_type": "code",
      "execution_count": 3,
      "metadata": {
        "id": "o-I5UAWJyIoJ"
      },
      "outputs": [],
      "source": [
        "def resample_audio(path):\n",
        "    audio, sr = librosa.load(path)\n",
        "    if len(audio) < SAMPLE_RATE:\n",
        "        audio = np.pad(audio, (1,48000-len(audio)), \"constant\")\n",
        "    else:\n",
        "        audio = audio[:SAMPLE_RATE]\n",
        "    return audio\n",
        "\n"
      ]
    },
    {
      "cell_type": "code",
      "execution_count": null,
      "metadata": {
        "colab": {
          "base_uri": "https://localhost:8080/"
        },
        "id": "1tuiH_f6Jge4",
        "outputId": "a4e37cd4-d6c1-4af4-e5c5-03cddd9441a2"
      },
      "outputs": [
        {
          "output_type": "stream",
          "name": "stdout",
          "text": [
            "1\n",
            "Mohsen Chavoshi\n"
          ]
        }
      ],
      "source": [
        "import os\n",
        "import cv2\n",
        "import numpy as np\n",
        "import tensorflow as tf\n",
        "import librosa\n",
        "from telebot import *\n",
        "bot = telebot.TeleBot(\"6427139040:AAET4tZIh3hVkizhhiaSJ6ISN2DHbCFIdZ4\")\n",
        "model_Akhund_Human = tf.keras.models.load_model('/content/drive/MyDrive/dataset/Akhund_and_Human.h5')\n",
        "model = tf.keras.models.load_model(\"/content/drive/MyDrive/Audio/audio.h5\")\n",
        "model_friends = tf.keras.models.load_model(\"/content/drive/MyDrive/Audio/audio_friends.h5\")\n",
        "label_names = ['Homayoun Shajaryan','Mohsen Chavoshi','Alireza Ghorbani','Siavash Ghomayshi']\n",
        "label_names_friends = ['Parisa Baqerzade','Davood Fazeli','Javad Nematollahi','Khadijeh Valipour','kiana jhnshid','Rezaie','Matin Ghorbani','Mohammad','Mohammad_prf','Azra Khedadmand','Nima','Omid nomiri','Abdollah Ramezani','Shima Bazzazan','Maryam Saeedi','Sajedeh Gharabadiyan','Parsa']\n",
        "\n",
        "flowers_name = ['daffodil','daisy', 'dandelion', 'fritillary', 'iris', 'lilyvalley', 'pansy', 'snowdrop', 'sunflower', 'tigerlily', 'tulip', 'windflower']\n",
        "\n",
        "\n",
        "@bot.message_handler(commands=[\"start\"])\n",
        "def welcom(message):\n",
        "    bot.reply_to(message, f\"✋welcom  to {message.chat.first_name} boot AI \")\n",
        "@bot.message_handler(commands=[\"help\"])\n",
        "def help(message):\n",
        "\tbot.send_message(message.chat.id,\"/gray - Imaeg gray 🌅 \\n/sketch - Photo Sketch 📸\\n/flowers - photo Flower detection🌹🌿\\n/akhund - distinguish mullah and human👳🏻‍♂️👨🏻\\n/friend - Audio Classification\")\n",
        "\n",
        "@bot.message_handler(commands=['gray'])\n",
        "def send_pencil_sketch(message):\n",
        "    global bot_state\n",
        "    bot.send_message(message.chat.id, \"Send me an image 🌅\")\n",
        "    bot_state = 'gray'\n",
        "\n",
        "@bot.message_handler(commands=['sketch'])\n",
        "def send_pencil_sketch(message):\n",
        "    global bot_state\n",
        "    bot.send_message(message.chat.id, \"Send me an image 🌅\")\n",
        "    bot_state = 'Sketch'\n",
        "\n",
        "@bot.message_handler(commands=['flowers'])\n",
        "def send_photo(message):\n",
        "    msg = bot.send_message(message.chat.id,\"Send me an image flower🌹\")\n",
        "    bot.register_next_step_handler(msg,photo)\n",
        "\n",
        "@bot.message_handler(commands=['akhund'])\n",
        "def send_photo_akhunb(message):\n",
        "    msg = bot.send_message(message.chat.id,\"Send me an image 👳🏻‍♂️👨🏻\")\n",
        "    bot.register_next_step_handler(msg,recognizer)\n",
        "\n",
        "@bot.message_handler(commands=['singers'])\n",
        "def send_photo_akhunb(message):\n",
        "    msg = bot.send_message(message.chat.id,\"Send me an Audio singers 🗣\")\n",
        "    bot.register_next_step_handler(msg,Singers)\n",
        "\n",
        "@bot.message_handler(commands=['friends'])\n",
        "def send_photo_akhunb(message):\n",
        "    msg = bot.send_message(message.chat.id,\"Send me an Audio friends 🗣\")\n",
        "    bot.register_next_step_handler(msg,friends)\n",
        "\n",
        "def save_image(file_info, image_name=None):\n",
        "    downloaded_file = bot.download_file(file_info.file_path)\n",
        "    if image_name:\n",
        "        image_path = os.path.join('photos', image_name + '.jpg')\n",
        "    else:\n",
        "        image_path = os.path.join(file_info.file_path)\n",
        "\n",
        "    with open(image_path, 'wb') as new_file:\n",
        "        new_file.write(downloaded_file)\n",
        "    return image_path\n",
        "\n",
        "@bot.message_handler(content_types=['photo'])\n",
        "def send_photo(message):\n",
        "    global bot_state, content_image_path\n",
        "    file_info = bot.get_file(message.photo[-1].file_id)\n",
        "    if bot_state == 'gray':\n",
        "        image_path = save_image(file_info)\n",
        "        image_result = image_gray(image_path)\n",
        "    elif bot_state == 'Sketch':\n",
        "        image_path = save_image(file_info)\n",
        "        image_result = Sketch(image_path)\n",
        "\n",
        "    image_path = os.path.join( file_info.file_path)\n",
        "    cv2.imwrite(image_path, image_result)\n",
        "\n",
        "    photo = open(image_path, \"rb\")\n",
        "    bot.send_photo(message.chat.id, photo)\n",
        "\n",
        "def image_gray(image_path):\n",
        "    image = cv2.imread(image_path)\n",
        "    image_result = cv2.cvtColor(image, cv2.COLOR_BGR2GRAY)\n",
        "    return image_result\n",
        "def dodge(x, y):\n",
        "    return cv2.divide(x, 255 - y, scale=256)\n",
        "\n",
        "def burn(image, mask):\n",
        "    return 255 - cv2.divide(255 - image, 255 - mask, scale=256)\n",
        "\n",
        "def Sketch(image_path):\n",
        "    image = cv2.imread(image_path)\n",
        "    image_gray = cv2.cvtColor(image, cv2.COLOR_BGR2GRAY)\n",
        "    image_gray_inv = 255 - image_gray\n",
        "    image_gray_inv_blur = cv2.GaussianBlur(image_gray_inv, (21, 21), sigmaX=0, sigmaY=0)\n",
        "    image_dodged = dodge(image_gray, image_gray_inv_blur)\n",
        "    image_result = burn(image_dodged, image_gray_inv_blur)\n",
        "    return image_result\n",
        "\n",
        "\n",
        "\n",
        "@bot.message_handler(content_types = [\"flowers\"])\n",
        "def photo(message):\n",
        "    fileID = message.photo[-1].file_id\n",
        "    file_info = bot.get_file(fileID)\n",
        "    downloaded_file = bot.download_file(file_info.file_path)\n",
        "\n",
        "    with open(\"Flowers.jpg\", 'wb') as new_file:\n",
        "        new_file.write(downloaded_file)\n",
        "\n",
        "    img = cv2.imread(\"Flowers.jpg\")\n",
        "    image = cv2.cvtColor(img,cv2.COLOR_BGR2RGB)\n",
        "    img = cv2.resize(image ,(224,224))\n",
        "    img = img / 255\n",
        "    img = img.reshape(1,224,224,3)\n",
        "    result = np.argmax(model.predict(img))\n",
        "    print(result)\n",
        "    print(flowers_name[result])\n",
        "\n",
        "    bot.send_message(message.chat.id,f' I feel your name is flowers {flowers_name[result]} ☘️🪴 .')\n",
        "\n",
        "\n",
        "def recognizer(message):\n",
        "    fileID = message.photo[-1].file_id\n",
        "    file_info = bot.get_file(fileID)\n",
        "    downloaded_file = bot.download_file(file_info.file_path)\n",
        "    width = height = 224\n",
        "\n",
        "\n",
        "    with open(\"image.jpg\", 'wb') as new_file:\n",
        "        new_file.write(downloaded_file)\n",
        "\n",
        "    img = cv2.imread(\"image.jpg\")\n",
        "    image = cv2.cvtColor(img,cv2.COLOR_BGR2RGB)\n",
        "    img = cv2.resize(image ,(width,height))\n",
        "    img = img / 255\n",
        "    img = img.reshape(1,width,height,3)\n",
        "\n",
        "    result = np.argmax(model_Akhund_Human.predict(img))\n",
        "    print(result)\n",
        "\n",
        "    if result == 0:\n",
        "        bot.send_message(message.chat.id,'از ما نیست👳🏻‍♂️')\n",
        "\n",
        "    elif result == 1:\n",
        "        bot.send_message(message.chat.id,'از ماست 👨🏻👩🏻')\n",
        "\n",
        "def Singers(message):\n",
        "    file_name = bot.get_file(message.audio.file_id)\n",
        "    file_path = file_name.file_path\n",
        "    file_download = bot.download_file(file_path)\n",
        "    wav_filename = '/content/voice/output.wav'\n",
        "    with open(wav_filename, 'wb') as audio:\n",
        "      audio.write(file_download)\n",
        "\n",
        "    asd = resample_audio(wav_filename)\n",
        "    input_data  = asd.reshape(1,48000,1)\n",
        "    # process\n",
        "    preds = np.argmax(model(input_data))\n",
        "    print(preds)\n",
        "    print(label_names[preds])\n",
        "    bot.reply_to(message,label_names[preds])\n",
        "\n",
        "def friends(message):\n",
        "  voice_name = bot.get_file(message.voice.file_id)\n",
        "  file_download = bot.download_file(voice_name.file_path)\n",
        "  file_path = voice_name.file_path\n",
        "\n",
        "  with open(file_path, 'wb') as audio:\n",
        "    audio.write(file_download)\n",
        "\n",
        "  asd = resample_audio(file_path)\n",
        "  input_data  = asd.reshape(1,48000,1)\n",
        "  # process\n",
        "  preds = np.argmax(model_friends(input_data))\n",
        "  print(preds)\n",
        "  print(label_names_friends[preds])\n",
        "  bot.reply_to(message,label_names_friends[preds])\n",
        "\n",
        "\n",
        "bot.infinity_polling()\n",
        "\n"
      ]
    },
    {
      "cell_type": "code",
      "execution_count": null,
      "metadata": {
        "id": "H0yCJ0cEriz3"
      },
      "outputs": [],
      "source": [
        "from google.colab import drive\n",
        "drive.mount('/content/drive')"
      ]
    },
    {
      "cell_type": "code",
      "execution_count": null,
      "metadata": {
        "id": "f9zV3MerSzvr"
      },
      "outputs": [],
      "source": [
        ")audio_info = bot.get_file(message.voice.file_id)\n",
        "    downloaded_file = bot.download_file(audio_info.file_path)\n",
        "    src = audio_info.file_path\n",
        "    with open(src, 'wb') as audio_file:\n",
        "        audio_file.write(downloaded_file)"
      ]
    }
  ],
  "metadata": {
    "accelerator": "GPU",
    "colab": {
      "provenance": []
    },
    "kernelspec": {
      "display_name": "Python 3",
      "name": "python3"
    },
    "language_info": {
      "name": "python"
    }
  },
  "nbformat": 4,
  "nbformat_minor": 0
}