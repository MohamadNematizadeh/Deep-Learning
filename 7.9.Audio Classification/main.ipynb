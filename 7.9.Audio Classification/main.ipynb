{
  "cells": [
    {
      "cell_type": "code",
      "execution_count": 15,
      "metadata": {
        "colab": {
          "base_uri": "https://localhost:8080/"
        },
        "id": "2IJ83wzATfQH",
        "outputId": "c9508fcd-1adb-490e-a5af-c3ff8e8c0308"
      },
      "outputs": [
        {
          "name": "stdout",
          "output_type": "stream",
          "text": [
            "Mohammad_prf\n"
          ]
        }
      ],
      "source": [
        "import numpy as np\n",
        "import tensorflow as tf\n",
        "from Audi_Classifier import Audio_Classifier\n",
        "label_names = ['Parsa','Azra Khedadmand','Davood Fazeli','Javad Nematollahi','Parisa Baqerzade','kiana jhnshid','Maryam Saeedi','Matin Ghorbani','Shima Bazzazan','Mohammad','Nima','Omid nomiri','Khadijeh Valipour','Abdollah Ramezani','Rezaie','Sajedeh Gharabadiyan','Mohammad_prf']\n",
        "model = tf.keras.models.load_model(\"/content/drive/MyDrive/Audio/audio_friends.h5\")\n",
        "file_path = '/content/drive/MyDrive/Mohammad_prf.ogg'\n",
        "\n",
        "# process\n",
        "input_data = Audio_Classifier.preprocess(file_path)\n",
        "preds = Audio_Classifier.postprocess(model,input_data)\n",
        "print(label_names[preds])"
      ]
    }
  ],
  "metadata": {
    "accelerator": "GPU",
    "colab": {
      "provenance": []
    },
    "kernelspec": {
      "display_name": "Python 3",
      "name": "python3"
    },
    "language_info": {
      "name": "python"
    }
  },
  "nbformat": 4,
  "nbformat_minor": 0
}
