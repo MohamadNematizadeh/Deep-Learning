{
  "nbformat": 4,
  "nbformat_minor": 0,
  "metadata": {
    "colab": {
      "provenance": [],
      "gpuType": "T4"
    },
    "kernelspec": {
      "name": "python3",
      "display_name": "Python 3"
    },
    "language_info": {
      "name": "python"
    },
    "accelerator": "GPU"
  },
  "cells": [
    {
      "cell_type": "code",
      "source": [
        "!pip install spleeter\n"
      ],
      "metadata": {
        "id": "W4eB9vGHrPD_"
      },
      "execution_count": null,
      "outputs": []
    },
    {
      "cell_type": "code",
      "source": [
        "!pip install pydub"
      ],
      "metadata": {
        "id": "n5lF96AD38U-",
        "colab": {
          "base_uri": "https://localhost:8080/"
        },
        "outputId": "9a5341b0-b6de-41ce-9db8-e25d19634d56"
      },
      "execution_count": null,
      "outputs": [
        {
          "output_type": "stream",
          "name": "stdout",
          "text": [
            "Collecting pydub\n",
            "  Downloading pydub-0.25.1-py2.py3-none-any.whl (32 kB)\n",
            "Installing collected packages: pydub\n",
            "Successfully installed pydub-0.25.1\n"
          ]
        }
      ]
    },
    {
      "cell_type": "code",
      "source": [
        "SAMPLE_RATE = 48000"
      ],
      "metadata": {
        "id": "qNFWrhUGWOKM"
      },
      "execution_count": null,
      "outputs": []
    },
    {
      "cell_type": "code",
      "source": [
        "def resample_audio(path):\n",
        "    audio, sr = librosa.load(path)\n",
        "    if len(audio) < SAMPLE_RATE:\n",
        "        audio = np.pad(audio, (1,48000-len(audio)), \"constant\")\n",
        "    else:\n",
        "        audio = audio[:SAMPLE_RATE]\n",
        "    return audio\n",
        "\n"
      ],
      "metadata": {
        "id": "HEZt7awrV0_X"
      },
      "execution_count": null,
      "outputs": []
    },
    {
      "cell_type": "code",
      "execution_count": null,
      "metadata": {
        "id": "I5Sa0tdzsoPy",
        "colab": {
          "base_uri": "https://localhost:8080/"
        },
        "outputId": "68316697-f3b1-4650-be82-4814c5efe496"
      },
      "outputs": [
        {
          "output_type": "stream",
          "name": "stdout",
          "text": [
            "Sajedeh Gharabadiyan\n"
          ]
        }
      ],
      "source": [
        "import os\n",
        "import numpy as np\n",
        "import pydub\n",
        "import librosa\n",
        "import tensorflow as tf\n",
        "label_names = ['Abdollah Ramezani','Azra Khedadmand','Davood Fazeli','Maryam Saeedi','Rezaie ','kiana jhnshid','Javad Nematollahi','Matin Ghorbani ','Mohammad_prf','Mohammad','Mona','Omid nomiri ','Nima','Parisa Baqerzade','Parisa','Khadijeh Valipour','Shima Bazzazan','Sajedeh Gharabadiyan']\n",
        "model = tf.keras.models.load_model(\"/content/drive/MyDrive/audio.h5\")\n",
        "asd = resample_audio('/content/drive/MyDrive/Abdollah Ramezani.ogg')\n",
        "asd = asd.reshape(1,48000,1)\n",
        "# process\n",
        "preds = model(asd)\n",
        "preds = preds.cpu().numpy()\n",
        "output = np.argmax(preds)\n",
        "print(label_names[output])\n"
      ]
    }
  ]
}