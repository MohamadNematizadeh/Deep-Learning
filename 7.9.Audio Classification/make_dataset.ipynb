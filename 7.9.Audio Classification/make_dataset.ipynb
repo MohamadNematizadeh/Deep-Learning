{
 "cells": [
  {
   "cell_type": "code",
   "execution_count": 2,
   "metadata": {},
   "outputs": [],
   "source": [
    "import os \n",
    "import pydub\n",
    "import matplotlib.pyplot as plt"
   ]
  },
  {
   "cell_type": "code",
   "execution_count": 3,
   "metadata": {},
   "outputs": [
    {
     "data": {
      "text/plain": [
       "<_io.BufferedRandom name='data/Mona.ogg'>"
      ]
     },
     "execution_count": 3,
     "metadata": {},
     "output_type": "execute_result"
    }
   ],
   "source": [
    "voice_1 = pydub.AudioSegment.from_file(\"raw_data/Mona.m4a\")\n",
    "voice_1.export(\"data/Mona.ogg\")"
   ]
  },
  {
   "cell_type": "code",
   "execution_count": 7,
   "metadata": {},
   "outputs": [
    {
     "data": {
      "text/plain": [
       "<_io.BufferedRandom name='data/Khadijeh Valipour.ogg'>"
      ]
     },
     "execution_count": 7,
     "metadata": {},
     "output_type": "execute_result"
    }
   ],
   "source": [
    "voice_1 = pydub.AudioSegment.from_file(\"raw_data/Khadijeh Valipour.ogg\")\n",
    "voice_2 = pydub.AudioSegment.from_file(\"raw_data/Khadijeh Valipour2.ogg\")\n",
    "result = voice_1+voice_2\n",
    "result.export(\"data/Khadijeh Valipour.ogg\")\n"
   ]
  },
  {
   "cell_type": "code",
   "execution_count": null,
   "metadata": {},
   "outputs": [],
   "source": [
    "voice_1 = pydub.AudioSegment.from_file(\"raw_data/Azra Khedadmand.ogg\")\n",
    "voice_2 = pydub.AudioSegment.from_file(\"raw_data/Azra Khedadmand2.ogg\")\n",
    "result = voice_1+voice_2\n",
    "result.export(\"data/Azra Khedadmand.ogg\")"
   ]
  },
  {
   "cell_type": "code",
   "execution_count": 5,
   "metadata": {},
   "outputs": [
    {
     "data": {
      "text/plain": [
       "<_io.BufferedRandom name='data/Nima.ogg'>"
      ]
     },
     "execution_count": 5,
     "metadata": {},
     "output_type": "execute_result"
    }
   ],
   "source": [
    "voice_1 = pydub.AudioSegment.from_file(\"raw_data/Nima Abdollahzadeh.ogg\")\n",
    "voice_2 = pydub.AudioSegment.from_file(\"raw_data/Nima Abdollahzadeh2.ogg\")\n",
    "result = voice_1+voice_2\n",
    "result.export(\"data/Nima.ogg\")"
   ]
  },
  {
   "cell_type": "code",
   "execution_count": 6,
   "metadata": {},
   "outputs": [
    {
     "data": {
      "text/plain": [
       "<_io.BufferedRandom name='data/Parsa.ogg'>"
      ]
     },
     "execution_count": 6,
     "metadata": {},
     "output_type": "execute_result"
    }
   ],
   "source": [
    "voice_1 = pydub.AudioSegment.from_file(\"raw_data/Parsa Dehmolai.ogg\")\n",
    "voice_2 = pydub.AudioSegment.from_file(\"raw_data/Parsa Dehmolai2.ogg\")\n",
    "result = voice_1+voice_2\n",
    "result.export(\"data/Parsa.ogg\")"
   ]
  },
  {
   "cell_type": "code",
   "execution_count": 25,
   "metadata": {},
   "outputs": [
    {
     "name": "stdout",
     "output_type": "stream",
     "text": [
      "<pydub.audio_segment.AudioSegment object at 0x7fe01da7e5f0>\n",
      "Abdollah Ramezani\n",
      "<pydub.audio_segment.AudioSegment object at 0x7fe01da7d0f0>\n",
      "Azra Khedadmand\n",
      "<pydub.audio_segment.AudioSegment object at 0x7fe01da7d0f0>\n",
      "Davood Fazeli\n",
      "<pydub.audio_segment.AudioSegment object at 0x7fe01da7d0f0>\n",
      "Javad Nematollahi\n",
      "<pydub.audio_segment.AudioSegment object at 0x7fe01da7d2d0>\n",
      "Khadijeh Valipour\n",
      "<pydub.audio_segment.AudioSegment object at 0x7fe01da7d2d0>\n",
      "kiana jhnshid\n",
      "<pydub.audio_segment.AudioSegment object at 0x7fe01da7d2d0>\n",
      "Maryam Saeedi\n",
      "<pydub.audio_segment.AudioSegment object at 0x7fe01da7d2d0>\n",
      "Matin Ghorbani\n",
      "<pydub.audio_segment.AudioSegment object at 0x7fe01da7d2d0>\n",
      "Mohammad\n",
      "<pydub.audio_segment.AudioSegment object at 0x7fe01da7d2d0>\n",
      "Mohammad_prf\n",
      "<pydub.audio_segment.AudioSegment object at 0x7fe01da7d2d0>\n",
      "Mona\n",
      "<pydub.audio_segment.AudioSegment object at 0x7fe01da7e5f0>\n",
      "Nima\n",
      "<pydub.audio_segment.AudioSegment object at 0x7fe01da7e5f0>\n",
      "Omid nomiri\n",
      "<pydub.audio_segment.AudioSegment object at 0x7fe01da7e5f0>\n",
      "Parisa Baqerzade\n",
      "<pydub.audio_segment.AudioSegment object at 0x7fe01da7d0f0>\n",
      "Parsa\n",
      "<pydub.audio_segment.AudioSegment object at 0x7fe01da7d0f0>\n",
      "Rezaie\n",
      "<pydub.audio_segment.AudioSegment object at 0x7fe01da7d0f0>\n",
      "Sajedeh Gharabadiyan\n",
      "<pydub.audio_segment.AudioSegment object at 0x7fe01da7d0f0>\n",
      "Shima Bazzazan\n"
     ]
    }
   ],
   "source": [
    "import numpy as np\n",
    "names = []\n",
    "files = os.listdir(\"data\")\n",
    "for file in files:\n",
    "    audio = pydub.AudioSegment.from_file(os.path.join(\"data\" , file))\n",
    "    audio = audio.set_sample_width(2)\n",
    "    audio = audio.set_frame_rate(48000)\n",
    "    audio = audio.set_channels(1)\n",
    "    print(audio)\n",
    "    chunks = pydub.silence.split_on_silence(audio, min_silence_len=2000, silence_thresh=-45)\n",
    "    result = sum(chunks)\n",
    "    file_name = file.split(\".\")[0]\n",
    "    # np.save('label_map.npy', file_name) \n",
    "\n",
    "    print(file_name)\n",
    "    result.export(\"wav_data/\" + file_name+\".wav\" , format=\"wav\")\n",
    "   "
   ]
  },
  {
   "cell_type": "code",
   "execution_count": 3,
   "metadata": {},
   "outputs": [],
   "source": [
    "for file in os.listdir(\"wav_data\"):\n",
    "        audio = pydub.AudioSegment.from_file(os.path.join(\"wav_data\", file))\n",
    "        person_name = file.split(\".\")[0]\n",
    "        os.makedirs(os.path.join(\"dataset\",person_name), exist_ok=True)\n",
    "        chunks = pydub.utils.make_chunks(audio , 1000)\n",
    "        for i , chunk in enumerate(chunks):\n",
    "                if len(chunk) >= 1000:\n",
    "                        chunk.export(os.path.join(\"dataset\",person_name,f\"voice_{i}.wav\") , format=\"wav\")\n"
   ]
  },
  {
   "cell_type": "code",
   "execution_count": 18,
   "metadata": {},
   "outputs": [
    {
     "name": "stdout",
     "output_type": "stream",
     "text": [
      "Javad Nematollahi\n"
     ]
    }
   ],
   "source": [
    "label_map = np.load('label_map.npy')\n",
    "print(label_map)"
   ]
  }
 ],
 "metadata": {
  "interpreter": {
   "hash": "199d13cb93967aa13d64a83f049bc81008fee891a303eecd73441d2512547036"
  },
  "kernelspec": {
   "display_name": "Python 3.10.5 64-bit",
   "language": "python",
   "name": "python3"
  },
  "language_info": {
   "codemirror_mode": {
    "name": "ipython",
    "version": 3
   },
   "file_extension": ".py",
   "mimetype": "text/x-python",
   "name": "python",
   "nbconvert_exporter": "python",
   "pygments_lexer": "ipython3",
   "version": "3.10.12"
  },
  "orig_nbformat": 4
 },
 "nbformat": 4,
 "nbformat_minor": 2
}
