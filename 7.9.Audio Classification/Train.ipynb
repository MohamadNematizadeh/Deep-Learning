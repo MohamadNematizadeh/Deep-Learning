{
  "cells": [
    {
      "cell_type": "code",
      "execution_count": 1,
      "metadata": {
        "id": "8ZF9k9rEl1ao"
      },
      "outputs": [
        {
          "name": "stderr",
          "output_type": "stream",
          "text": [
            "2023-12-27 23:42:56.848082: I external/local_tsl/tsl/cuda/cudart_stub.cc:31] Could not find cuda drivers on your machine, GPU will not be used.\n",
            "2023-12-27 23:42:56.893966: E external/local_xla/xla/stream_executor/cuda/cuda_dnn.cc:9261] Unable to register cuDNN factory: Attempting to register factory for plugin cuDNN when one has already been registered\n",
            "2023-12-27 23:42:56.893990: E external/local_xla/xla/stream_executor/cuda/cuda_fft.cc:607] Unable to register cuFFT factory: Attempting to register factory for plugin cuFFT when one has already been registered\n",
            "2023-12-27 23:42:56.894961: E external/local_xla/xla/stream_executor/cuda/cuda_blas.cc:1515] Unable to register cuBLAS factory: Attempting to register factory for plugin cuBLAS when one has already been registered\n",
            "2023-12-27 23:42:56.901407: I external/local_tsl/tsl/cuda/cudart_stub.cc:31] Could not find cuda drivers on your machine, GPU will not be used.\n",
            "2023-12-27 23:42:56.903084: I tensorflow/core/platform/cpu_feature_guard.cc:182] This TensorFlow binary is optimized to use available CPU instructions in performance-critical operations.\n",
            "To enable the following instructions: AVX2 FMA, in other operations, rebuild TensorFlow with the appropriate compiler flags.\n",
            "2023-12-27 23:42:58.011190: W tensorflow/compiler/tf2tensorrt/utils/py_utils.cc:38] TF-TRT Warning: Could not find TensorRT\n"
          ]
        }
      ],
      "source": [
        "import tensorflow as tf\n",
        "from Audi_Classifier import Audio_Classifier"
      ]
    },
    {
      "cell_type": "code",
      "execution_count": 2,
      "metadata": {
        "colab": {
          "base_uri": "https://localhost:8080/"
        },
        "id": "8pOrGn3nIgq4",
        "outputId": "eb4168c3-f830-4cb1-bf23-31d86ed2b6ed"
      },
      "outputs": [
        {
          "name": "stdout",
          "output_type": "stream",
          "text": [
            "Found 1619 files belonging to 17 classes.\n",
            "Using 1296 files for training.\n",
            "Found 1619 files belonging to 17 classes.\n",
            "Using 323 files for validation.\n"
          ]
        }
      ],
      "source": [
        "data_path = \"dataset\"\n",
        "train_data = tf.keras.utils.audio_dataset_from_directory(\n",
        "    data_path,\n",
        "    batch_size=8,\n",
        "    shuffle=True,\n",
        "    validation_split=0.2,\n",
        "    subset=\"training\",\n",
        "    output_sequence_length=48000,\n",
        "    ragged=False,\n",
        "    label_mode=\"categorical\",\n",
        "    labels=\"inferred\",\n",
        "    sampling_rate=None,\n",
        "    seed=60\n",
        "\n",
        ")\n",
        "validation_data = tf.keras.utils.audio_dataset_from_directory(\n",
        "    data_path,\n",
        "    batch_size=8,\n",
        "    shuffle=True,\n",
        "    validation_split=0.2,\n",
        "    subset=\"validation\",\n",
        "    output_sequence_length=48000,\n",
        "    ragged=False,\n",
        "    label_mode=\"categorical\",\n",
        "    labels=\"inferred\",\n",
        "    sampling_rate=None,\n",
        "    seed=5\n",
        ")\n"
      ]
    },
    {
      "cell_type": "code",
      "execution_count": 3,
      "metadata": {},
      "outputs": [
        {
          "name": "stdout",
          "output_type": "stream",
          "text": [
            "None\n"
          ]
        },
        {
          "ename": "AttributeError",
          "evalue": "'NoneType' object has no attribute 'compile'",
          "output_type": "error",
          "traceback": [
            "\u001b[0;31m---------------------------------------------------------------------------\u001b[0m",
            "\u001b[0;31mAttributeError\u001b[0m                            Traceback (most recent call last)",
            "\u001b[1;32m/media/mohammad/Mohamad Nematizadeh/Programmer/Python Course/Deep Learning/Assignments 59(Audio Classification)/Audio Friend/Train.ipynb Cell 3\u001b[0m line \u001b[0;36m3\n\u001b[1;32m      <a href='vscode-notebook-cell:/media/mohammad/Mohamad%20Nematizadeh/Programmer/Python%20Course/Deep%20Learning/Assignments%2059%28Audio%20Classification%29/Audio%20Friend/Train.ipynb#W2sZmlsZQ%3D%3D?line=0'>1</a>\u001b[0m model \u001b[39m=\u001b[39m Audio_Classifier\u001b[39m.\u001b[39mcreate_model(train_data ,validation_data)\n\u001b[1;32m      <a href='vscode-notebook-cell:/media/mohammad/Mohamad%20Nematizadeh/Programmer/Python%20Course/Deep%20Learning/Assignments%2059%28Audio%20Classification%29/Audio%20Friend/Train.ipynb#W2sZmlsZQ%3D%3D?line=1'>2</a>\u001b[0m \u001b[39mprint\u001b[39m(model)\n\u001b[0;32m----> <a href='vscode-notebook-cell:/media/mohammad/Mohamad%20Nematizadeh/Programmer/Python%20Course/Deep%20Learning/Assignments%2059%28Audio%20Classification%29/Audio%20Friend/Train.ipynb#W2sZmlsZQ%3D%3D?line=2'>3</a>\u001b[0m Audio_Classifier\u001b[39m.\u001b[39;49mtrain(model,train_data ,validation_data)\n",
            "File \u001b[0;32m/media/mohammad/Mohamad Nematizadeh/Programmer/Python Course/Deep Learning/Assignments 59(Audio Classification)/Audio Friend/Audi_Classifier.py:19\u001b[0m, in \u001b[0;36mAudio_Classifier.train\u001b[0;34m(model, train_data, validation_data)\u001b[0m\n\u001b[1;32m     18\u001b[0m \u001b[39mdef\u001b[39;00m \u001b[39mtrain\u001b[39m(model,train_data,validation_data):\n\u001b[0;32m---> 19\u001b[0m     model\u001b[39m.\u001b[39;49mcompile(\n\u001b[1;32m     20\u001b[0m         optimizer\u001b[39m=\u001b[39mtf\u001b[39m.\u001b[39mkeras\u001b[39m.\u001b[39moptimizers\u001b[39m.\u001b[39mAdam(learning_rate\u001b[39m=\u001b[39m\u001b[39m0.0001\u001b[39m),\n\u001b[1;32m     21\u001b[0m         loss\u001b[39m=\u001b[39m\u001b[39m'\u001b[39m\u001b[39mcategorical_crossentropy\u001b[39m\u001b[39m'\u001b[39m,\n\u001b[1;32m     22\u001b[0m         metrics\u001b[39m=\u001b[39m[\u001b[39m'\u001b[39m\u001b[39maccuracy\u001b[39m\u001b[39m'\u001b[39m])\n\u001b[1;32m     23\u001b[0m     model\u001b[39m.\u001b[39mfit(train_data, validation_data\u001b[39m=\u001b[39mvalidation_data, epochs\u001b[39m=\u001b[39m\u001b[39m30\u001b[39m)\n",
            "\u001b[0;31mAttributeError\u001b[0m: 'NoneType' object has no attribute 'compile'"
          ]
        }
      ],
      "source": [
        "model = Audio_Classifier.create_model(train_data ,validation_data)\n",
        "print(model)\n",
        "Audio_Classifier.train(model,train_data ,validation_data)\n"
      ]
    },
    {
      "cell_type": "code",
      "execution_count": null,
      "metadata": {},
      "outputs": [],
      "source": [
        "model.save('audio_friends.h5')"
      ]
    }
  ],
  "metadata": {
    "accelerator": "GPU",
    "colab": {
      "gpuType": "T4",
      "provenance": []
    },
    "kernelspec": {
      "display_name": "Python 3",
      "name": "python3"
    },
    "language_info": {
      "codemirror_mode": {
        "name": "ipython",
        "version": 3
      },
      "file_extension": ".py",
      "mimetype": "text/x-python",
      "name": "python",
      "nbconvert_exporter": "python",
      "pygments_lexer": "ipython3",
      "version": "3.10.12"
    }
  },
  "nbformat": 4,
  "nbformat_minor": 0
}
