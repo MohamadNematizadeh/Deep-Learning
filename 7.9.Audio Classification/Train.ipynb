{
  "cells": [
    {
      "cell_type": "code",
      "execution_count": 1,
      "metadata": {
        "id": "8ZF9k9rEl1ao"
      },
      "outputs": [
        {
          "name": "stderr",
          "output_type": "stream",
          "text": [
            "2023-12-22 13:10:02.136931: I external/local_tsl/tsl/cuda/cudart_stub.cc:31] Could not find cuda drivers on your machine, GPU will not be used.\n",
            "2023-12-22 13:10:02.181994: E external/local_xla/xla/stream_executor/cuda/cuda_dnn.cc:9261] Unable to register cuDNN factory: Attempting to register factory for plugin cuDNN when one has already been registered\n",
            "2023-12-22 13:10:02.182018: E external/local_xla/xla/stream_executor/cuda/cuda_fft.cc:607] Unable to register cuFFT factory: Attempting to register factory for plugin cuFFT when one has already been registered\n",
            "2023-12-22 13:10:02.182816: E external/local_xla/xla/stream_executor/cuda/cuda_blas.cc:1515] Unable to register cuBLAS factory: Attempting to register factory for plugin cuBLAS when one has already been registered\n",
            "2023-12-22 13:10:02.191292: I external/local_tsl/tsl/cuda/cudart_stub.cc:31] Could not find cuda drivers on your machine, GPU will not be used.\n",
            "2023-12-22 13:10:02.192544: I tensorflow/core/platform/cpu_feature_guard.cc:182] This TensorFlow binary is optimized to use available CPU instructions in performance-critical operations.\n",
            "To enable the following instructions: AVX2 FMA, in other operations, rebuild TensorFlow with the appropriate compiler flags.\n",
            "2023-12-22 13:10:03.293245: W tensorflow/compiler/tf2tensorrt/utils/py_utils.cc:38] TF-TRT Warning: Could not find TensorRT\n"
          ]
        }
      ],
      "source": [
        "import tensorflow as tf"
      ]
    },
    {
      "cell_type": "code",
      "execution_count": 3,
      "metadata": {
        "colab": {
          "base_uri": "https://localhost:8080/"
        },
        "id": "8pOrGn3nIgq4",
        "outputId": "eb4168c3-f830-4cb1-bf23-31d86ed2b6ed"
      },
      "outputs": [
        {
          "name": "stdout",
          "output_type": "stream",
          "text": [
            "Found 1619 files belonging to 17 classes.\n",
            "Using 1296 files for training.\n",
            "Found 1619 files belonging to 17 classes.\n",
            "Using 323 files for validation.\n"
          ]
        }
      ],
      "source": [
        "data_path = \"dataset\"\n",
        "train_data = tf.keras.utils.audio_dataset_from_directory(\n",
        "    data_path,\n",
        "    batch_size=8,\n",
        "    shuffle=True,\n",
        "    validation_split=0.2,\n",
        "    subset=\"training\",\n",
        "    output_sequence_length=48000,\n",
        "    ragged=False,\n",
        "    label_mode=\"categorical\",\n",
        "    labels=\"inferred\",\n",
        "    sampling_rate=None,\n",
        "    seed=60\n",
        "\n",
        ")\n",
        "validation_data = tf.keras.utils.audio_dataset_from_directory(\n",
        "    data_path,\n",
        "    batch_size=8,\n",
        "    shuffle=True,\n",
        "    validation_split=0.2,\n",
        "    subset=\"validation\",\n",
        "    output_sequence_length=48000,\n",
        "    ragged=False,\n",
        "    label_mode=\"categorical\",\n",
        "    labels=\"inferred\",\n",
        "    sampling_rate=None,\n",
        "    seed=5\n",
        ")\n"
      ]
    },
    {
      "cell_type": "code",
      "execution_count": 4,
      "metadata": {
        "id": "LO89cEVdY9lK"
      },
      "outputs": [],
      "source": [
        "model = tf.keras.models.Sequential([\n",
        "    tf.keras.layers.Conv1D(32, kernel_size=80, activation='relu', strides=16, input_shape=(48000, 1)),\n",
        "    tf.keras.layers.MaxPooling1D(4),\n",
        "    tf.keras.layers.Conv1D(32, kernel_size=3, activation='relu'),\n",
        "    tf.keras.layers.MaxPooling1D(4),\n",
        "    tf.keras.layers.Conv1D(32, kernel_size=3, activation='relu'),\n",
        "    tf.keras.layers.MaxPooling1D(4),\n",
        "    tf.keras.layers.Conv1D(64, kernel_size=3, activation='relu'),\n",
        "    tf.keras.layers.MaxPooling1D(4),\n",
        "    tf.keras.layers.Conv1D(64, kernel_size=3, activation='relu'),\n",
        "    tf.keras.layers.MaxPooling1D(4),\n",
        "    tf.keras.layers.Flatten(),\n",
        "    # tf.keras.layers.Dense(256, activation='relu'),\n",
        "    tf.keras.layers.Dense(17, activation='softmax')\n",
        "])"
      ]
    },
    {
      "cell_type": "code",
      "execution_count": 5,
      "metadata": {
        "colab": {
          "base_uri": "https://localhost:8080/"
        },
        "id": "4nXiie_ieoEJ",
        "outputId": "99a83f49-c929-4e65-9ffa-7b8c80c4b610"
      },
      "outputs": [
        {
          "name": "stdout",
          "output_type": "stream",
          "text": [
            "Model: \"sequential\"\n",
            "_________________________________________________________________\n",
            " Layer (type)                Output Shape              Param #   \n",
            "=================================================================\n",
            " conv1d (Conv1D)             (None, 2996, 32)          2592      \n",
            "                                                                 \n",
            " max_pooling1d (MaxPooling1  (None, 749, 32)           0         \n",
            " D)                                                              \n",
            "                                                                 \n",
            " conv1d_1 (Conv1D)           (None, 747, 32)           3104      \n",
            "                                                                 \n",
            " max_pooling1d_1 (MaxPoolin  (None, 186, 32)           0         \n",
            " g1D)                                                            \n",
            "                                                                 \n",
            " conv1d_2 (Conv1D)           (None, 184, 32)           3104      \n",
            "                                                                 \n",
            " max_pooling1d_2 (MaxPoolin  (None, 46, 32)            0         \n",
            " g1D)                                                            \n",
            "                                                                 \n",
            " conv1d_3 (Conv1D)           (None, 44, 64)            6208      \n",
            "                                                                 \n",
            " max_pooling1d_3 (MaxPoolin  (None, 11, 64)            0         \n",
            " g1D)                                                            \n",
            "                                                                 \n",
            " conv1d_4 (Conv1D)           (None, 9, 64)             12352     \n",
            "                                                                 \n",
            " max_pooling1d_4 (MaxPoolin  (None, 2, 64)             0         \n",
            " g1D)                                                            \n",
            "                                                                 \n",
            " flatten (Flatten)           (None, 128)               0         \n",
            "                                                                 \n",
            " dense (Dense)               (None, 17)                2193      \n",
            "                                                                 \n",
            "=================================================================\n",
            "Total params: 29553 (115.44 KB)\n",
            "Trainable params: 29553 (115.44 KB)\n",
            "Non-trainable params: 0 (0.00 Byte)\n",
            "_________________________________________________________________\n"
          ]
        }
      ],
      "source": [
        "model.summary()"
      ]
    },
    {
      "cell_type": "code",
      "execution_count": 6,
      "metadata": {
        "id": "htoEfgXMe6sO"
      },
      "outputs": [],
      "source": [
        "model.compile(\n",
        "    optimizer=tf.keras.optimizers.Adam(learning_rate=0.001),\n",
        "    loss='categorical_crossentropy',\n",
        "    metrics=['accuracy']\n",
        ")"
      ]
    },
    {
      "cell_type": "code",
      "execution_count": 7,
      "metadata": {},
      "outputs": [
        {
          "name": "stdout",
          "output_type": "stream",
          "text": [
            "Epoch 1/30\n"
          ]
        },
        {
          "name": "stdout",
          "output_type": "stream",
          "text": [
            "  7/162 [>.............................] - ETA: 4s - loss: 2.8199 - accuracy: 0.0714  "
          ]
        },
        {
          "name": "stderr",
          "output_type": "stream",
          "text": [
            "2023-12-22 13:10:34.633422: W external/local_tsl/tsl/framework/cpu_allocator_impl.cc:83] Allocation of 20914176 exceeds 10% of free system memory.\n",
            "2023-12-22 13:10:34.633487: W external/local_tsl/tsl/framework/cpu_allocator_impl.cc:83] Allocation of 20914176 exceeds 10% of free system memory.\n",
            "2023-12-22 13:10:34.635019: W external/local_tsl/tsl/framework/cpu_allocator_impl.cc:83] Allocation of 22947840 exceeds 10% of free system memory.\n",
            "2023-12-22 13:10:34.635069: W external/local_tsl/tsl/framework/cpu_allocator_impl.cc:83] Allocation of 22947840 exceeds 10% of free system memory.\n",
            "2023-12-22 13:10:34.640426: W external/local_tsl/tsl/framework/cpu_allocator_impl.cc:83] Allocation of 23009280 exceeds 10% of free system memory.\n"
          ]
        },
        {
          "name": "stdout",
          "output_type": "stream",
          "text": [
            "162/162 [==============================] - 5s 25ms/step - loss: 2.5007 - accuracy: 0.1497 - val_loss: 2.2402 - val_accuracy: 0.2074\n",
            "Epoch 2/30\n",
            "162/162 [==============================] - 4s 23ms/step - loss: 1.8812 - accuracy: 0.3735 - val_loss: 1.4689 - val_accuracy: 0.5263\n",
            "Epoch 3/30\n",
            "162/162 [==============================] - 4s 24ms/step - loss: 1.2359 - accuracy: 0.5656 - val_loss: 1.0736 - val_accuracy: 0.6254\n",
            "Epoch 4/30\n",
            "162/162 [==============================] - 4s 22ms/step - loss: 0.8858 - accuracy: 0.7083 - val_loss: 0.9481 - val_accuracy: 0.6904\n",
            "Epoch 5/30\n",
            "162/162 [==============================] - 4s 21ms/step - loss: 0.7364 - accuracy: 0.7469 - val_loss: 0.7439 - val_accuracy: 0.7554\n",
            "Epoch 6/30\n",
            "162/162 [==============================] - 3s 21ms/step - loss: 0.6025 - accuracy: 0.8032 - val_loss: 0.5994 - val_accuracy: 0.8111\n",
            "Epoch 7/30\n",
            "162/162 [==============================] - 4s 24ms/step - loss: 0.5567 - accuracy: 0.8248 - val_loss: 0.5869 - val_accuracy: 0.8235\n",
            "Epoch 8/30\n",
            "162/162 [==============================] - 4s 24ms/step - loss: 0.4560 - accuracy: 0.8542 - val_loss: 0.5005 - val_accuracy: 0.8452\n",
            "Epoch 9/30\n",
            "162/162 [==============================] - 4s 25ms/step - loss: 0.3541 - accuracy: 0.8904 - val_loss: 0.4656 - val_accuracy: 0.8638\n",
            "Epoch 10/30\n",
            "162/162 [==============================] - 4s 25ms/step - loss: 0.3850 - accuracy: 0.8819 - val_loss: 0.7475 - val_accuracy: 0.8235\n",
            "Epoch 11/30\n",
            "162/162 [==============================] - 4s 24ms/step - loss: 0.3554 - accuracy: 0.8904 - val_loss: 0.4767 - val_accuracy: 0.8576\n",
            "Epoch 12/30\n",
            "162/162 [==============================] - 4s 22ms/step - loss: 0.2794 - accuracy: 0.9144 - val_loss: 0.4972 - val_accuracy: 0.8421\n",
            "Epoch 13/30\n",
            "162/162 [==============================] - 4s 26ms/step - loss: 0.2388 - accuracy: 0.9252 - val_loss: 0.4054 - val_accuracy: 0.8885\n",
            "Epoch 14/30\n",
            "162/162 [==============================] - 3s 20ms/step - loss: 0.2362 - accuracy: 0.9205 - val_loss: 0.4579 - val_accuracy: 0.8731\n",
            "Epoch 15/30\n",
            "162/162 [==============================] - 4s 25ms/step - loss: 0.2259 - accuracy: 0.9290 - val_loss: 0.3223 - val_accuracy: 0.9164\n",
            "Epoch 16/30\n",
            "162/162 [==============================] - 4s 27ms/step - loss: 0.2334 - accuracy: 0.9290 - val_loss: 0.2384 - val_accuracy: 0.9443\n",
            "Epoch 17/30\n",
            "162/162 [==============================] - 5s 28ms/step - loss: 0.1591 - accuracy: 0.9537 - val_loss: 0.2086 - val_accuracy: 0.9443\n",
            "Epoch 18/30\n",
            "162/162 [==============================] - 5s 32ms/step - loss: 0.1564 - accuracy: 0.9537 - val_loss: 0.2331 - val_accuracy: 0.9350\n",
            "Epoch 19/30\n",
            "162/162 [==============================] - 4s 27ms/step - loss: 0.1157 - accuracy: 0.9684 - val_loss: 0.2788 - val_accuracy: 0.9381\n",
            "Epoch 20/30\n",
            "162/162 [==============================] - 5s 31ms/step - loss: 0.1623 - accuracy: 0.9537 - val_loss: 0.2547 - val_accuracy: 0.9226\n",
            "Epoch 21/30\n",
            "162/162 [==============================] - 5s 28ms/step - loss: 0.2161 - accuracy: 0.9383 - val_loss: 0.5934 - val_accuracy: 0.8173\n",
            "Epoch 22/30\n",
            "162/162 [==============================] - 4s 27ms/step - loss: 0.2720 - accuracy: 0.9221 - val_loss: 0.2127 - val_accuracy: 0.9350\n",
            "Epoch 23/30\n",
            "162/162 [==============================] - 4s 23ms/step - loss: 0.1034 - accuracy: 0.9769 - val_loss: 0.1797 - val_accuracy: 0.9536\n",
            "Epoch 24/30\n",
            "162/162 [==============================] - 4s 23ms/step - loss: 0.0929 - accuracy: 0.9738 - val_loss: 0.1741 - val_accuracy: 0.9474\n",
            "Epoch 25/30\n",
            "162/162 [==============================] - 5s 28ms/step - loss: 0.0778 - accuracy: 0.9799 - val_loss: 0.1481 - val_accuracy: 0.9598\n",
            "Epoch 26/30\n",
            "162/162 [==============================] - 4s 25ms/step - loss: 0.1932 - accuracy: 0.9506 - val_loss: 0.2280 - val_accuracy: 0.9381\n",
            "Epoch 27/30\n",
            "162/162 [==============================] - 4s 22ms/step - loss: 0.1112 - accuracy: 0.9738 - val_loss: 0.1624 - val_accuracy: 0.9536\n",
            "Epoch 28/30\n",
            "162/162 [==============================] - 4s 23ms/step - loss: 0.0657 - accuracy: 0.9823 - val_loss: 0.1655 - val_accuracy: 0.9598\n",
            "Epoch 29/30\n",
            "162/162 [==============================] - 4s 23ms/step - loss: 0.1014 - accuracy: 0.9745 - val_loss: 0.2235 - val_accuracy: 0.9474\n",
            "Epoch 30/30\n",
            "162/162 [==============================] - 4s 22ms/step - loss: 0.2270 - accuracy: 0.9329 - val_loss: 0.4403 - val_accuracy: 0.9133\n"
          ]
        },
        {
          "data": {
            "text/plain": [
              "<keras.src.callbacks.History at 0x7fec9c043dc0>"
            ]
          },
          "execution_count": 7,
          "metadata": {},
          "output_type": "execute_result"
        }
      ],
      "source": [
        "model.fit(train_data, validation_data=validation_data, epochs=30)"
      ]
    },
    {
      "cell_type": "code",
      "execution_count": 9,
      "metadata": {},
      "outputs": [],
      "source": [
        "model.save('audio_friends.h5')"
      ]
    }
  ],
  "metadata": {
    "accelerator": "GPU",
    "colab": {
      "gpuType": "T4",
      "provenance": []
    },
    "kernelspec": {
      "display_name": "Python 3",
      "name": "python3"
    },
    "language_info": {
      "codemirror_mode": {
        "name": "ipython",
        "version": 3
      },
      "file_extension": ".py",
      "mimetype": "text/x-python",
      "name": "python",
      "nbconvert_exporter": "python",
      "pygments_lexer": "ipython3",
      "version": "3.10.12"
    }
  },
  "nbformat": 4,
  "nbformat_minor": 0
}
