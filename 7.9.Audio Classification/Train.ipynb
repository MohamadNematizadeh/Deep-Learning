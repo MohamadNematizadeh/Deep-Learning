{
  "cells": [
    {
      "cell_type": "code",
      "execution_count": 1,
      "metadata": {
        "id": "8ZF9k9rEl1ao"
      },
      "outputs": [
        {
          "name": "stderr",
          "output_type": "stream",
          "text": [
            "2023-12-21 17:43:18.958170: I external/local_tsl/tsl/cuda/cudart_stub.cc:31] Could not find cuda drivers on your machine, GPU will not be used.\n",
            "2023-12-21 17:43:19.137891: E external/local_xla/xla/stream_executor/cuda/cuda_dnn.cc:9261] Unable to register cuDNN factory: Attempting to register factory for plugin cuDNN when one has already been registered\n",
            "2023-12-21 17:43:19.137932: E external/local_xla/xla/stream_executor/cuda/cuda_fft.cc:607] Unable to register cuFFT factory: Attempting to register factory for plugin cuFFT when one has already been registered\n",
            "2023-12-21 17:43:19.156549: E external/local_xla/xla/stream_executor/cuda/cuda_blas.cc:1515] Unable to register cuBLAS factory: Attempting to register factory for plugin cuBLAS when one has already been registered\n",
            "2023-12-21 17:43:19.246070: I external/local_tsl/tsl/cuda/cudart_stub.cc:31] Could not find cuda drivers on your machine, GPU will not be used.\n",
            "2023-12-21 17:43:19.247760: I tensorflow/core/platform/cpu_feature_guard.cc:182] This TensorFlow binary is optimized to use available CPU instructions in performance-critical operations.\n",
            "To enable the following instructions: AVX2 FMA, in other operations, rebuild TensorFlow with the appropriate compiler flags.\n",
            "2023-12-21 17:43:20.391009: W tensorflow/compiler/tf2tensorrt/utils/py_utils.cc:38] TF-TRT Warning: Could not find TensorRT\n"
          ]
        }
      ],
      "source": [
        "import tensorflow as tf"
      ]
    },
    {
      "cell_type": "code",
      "execution_count": 2,
      "metadata": {
        "colab": {
          "base_uri": "https://localhost:8080/"
        },
        "id": "8pOrGn3nIgq4",
        "outputId": "eb4168c3-f830-4cb1-bf23-31d86ed2b6ed"
      },
      "outputs": [
        {
          "name": "stdout",
          "output_type": "stream",
          "text": [
            "Found 1619 files belonging to 17 classes.\n",
            "Using 1296 files for training.\n",
            "Found 1619 files belonging to 17 classes.\n",
            "Using 323 files for validation.\n"
          ]
        }
      ],
      "source": [
        "data_path = \"dataset\"\n",
        "train_data = tf.keras.utils.audio_dataset_from_directory(\n",
        "    data_path,\n",
        "    batch_size=8,\n",
        "    shuffle=True,\n",
        "    validation_split=0.2,\n",
        "    subset=\"training\",\n",
        "    output_sequence_length=48000,\n",
        "    ragged=False,\n",
        "    label_mode=\"categorical\",\n",
        "    labels=\"inferred\",\n",
        "    sampling_rate=None,\n",
        "    seed=60\n",
        "\n",
        ")\n",
        "validation_data = tf.keras.utils.audio_dataset_from_directory(\n",
        "    data_path,\n",
        "    batch_size=8,\n",
        "    shuffle=True,\n",
        "    validation_split=0.2,\n",
        "    subset=\"validation\",\n",
        "    output_sequence_length=48000,\n",
        "    ragged=False,\n",
        "    label_mode=\"categorical\",\n",
        "    labels=\"inferred\",\n",
        "    sampling_rate=None,\n",
        "    seed=60\n",
        ")\n"
      ]
    },
    {
      "cell_type": "code",
      "execution_count": 3,
      "metadata": {
        "id": "LO89cEVdY9lK"
      },
      "outputs": [],
      "source": [
        "model = tf.keras.models.Sequential([\n",
        "    tf.keras.layers.Conv1D(32, kernel_size=80, activation='relu', strides=16, input_shape=(48000, 1)),\n",
        "    tf.keras.layers.MaxPooling1D(4),\n",
        "    tf.keras.layers.Conv1D(32, kernel_size=3, activation='relu'),\n",
        "    tf.keras.layers.MaxPooling1D(4),\n",
        "    tf.keras.layers.Conv1D(32, kernel_size=3, activation='relu'),\n",
        "    tf.keras.layers.MaxPooling1D(4),\n",
        "    tf.keras.layers.Conv1D(64, kernel_size=3, activation='relu'),\n",
        "    tf.keras.layers.MaxPooling1D(4),\n",
        "    tf.keras.layers.Conv1D(64, kernel_size=3, activation='relu'),\n",
        "    tf.keras.layers.MaxPooling1D(4),\n",
        "    tf.keras.layers.Flatten(),\n",
        "    # tf.keras.layers.Dense(256, activation='relu'),\n",
        "    tf.keras.layers.Dense(17, activation='softmax')\n",
        "])"
      ]
    },
    {
      "cell_type": "code",
      "execution_count": 4,
      "metadata": {
        "colab": {
          "base_uri": "https://localhost:8080/"
        },
        "id": "4nXiie_ieoEJ",
        "outputId": "99a83f49-c929-4e65-9ffa-7b8c80c4b610"
      },
      "outputs": [
        {
          "name": "stdout",
          "output_type": "stream",
          "text": [
            "Model: \"sequential\"\n",
            "_________________________________________________________________\n",
            " Layer (type)                Output Shape              Param #   \n",
            "=================================================================\n",
            " conv1d (Conv1D)             (None, 2996, 32)          2592      \n",
            "                                                                 \n",
            " max_pooling1d (MaxPooling1  (None, 749, 32)           0         \n",
            " D)                                                              \n",
            "                                                                 \n",
            " conv1d_1 (Conv1D)           (None, 747, 32)           3104      \n",
            "                                                                 \n",
            " max_pooling1d_1 (MaxPoolin  (None, 186, 32)           0         \n",
            " g1D)                                                            \n",
            "                                                                 \n",
            " conv1d_2 (Conv1D)           (None, 184, 32)           3104      \n",
            "                                                                 \n",
            " max_pooling1d_2 (MaxPoolin  (None, 46, 32)            0         \n",
            " g1D)                                                            \n",
            "                                                                 \n",
            " conv1d_3 (Conv1D)           (None, 44, 64)            6208      \n",
            "                                                                 \n",
            " max_pooling1d_3 (MaxPoolin  (None, 11, 64)            0         \n",
            " g1D)                                                            \n",
            "                                                                 \n",
            " conv1d_4 (Conv1D)           (None, 9, 64)             12352     \n",
            "                                                                 \n",
            " max_pooling1d_4 (MaxPoolin  (None, 2, 64)             0         \n",
            " g1D)                                                            \n",
            "                                                                 \n",
            " flatten (Flatten)           (None, 128)               0         \n",
            "                                                                 \n",
            " dense (Dense)               (None, 17)                2193      \n",
            "                                                                 \n",
            "=================================================================\n",
            "Total params: 29553 (115.44 KB)\n",
            "Trainable params: 29553 (115.44 KB)\n",
            "Non-trainable params: 0 (0.00 Byte)\n",
            "_________________________________________________________________\n"
          ]
        }
      ],
      "source": [
        "model.summary()"
      ]
    },
    {
      "cell_type": "code",
      "execution_count": 5,
      "metadata": {
        "id": "htoEfgXMe6sO"
      },
      "outputs": [],
      "source": [
        "model.compile(\n",
        "    optimizer=tf.keras.optimizers.Adam(learning_rate=0.001),\n",
        "    loss='categorical_crossentropy',\n",
        "    metrics=['accuracy']\n",
        ")"
      ]
    },
    {
      "cell_type": "code",
      "execution_count": 6,
      "metadata": {},
      "outputs": [
        {
          "name": "stdout",
          "output_type": "stream",
          "text": [
            "Epoch 1/100\n"
          ]
        },
        {
          "name": "stdout",
          "output_type": "stream",
          "text": [
            "162/162 [==============================] - 4s 19ms/step - loss: 2.5264 - accuracy: 0.1343 - val_loss: 2.2413 - val_accuracy: 0.2508\n",
            "Epoch 2/100\n",
            "162/162 [==============================] - 3s 18ms/step - loss: 1.9585 - accuracy: 0.3426 - val_loss: 1.6458 - val_accuracy: 0.4861\n",
            "Epoch 3/100\n",
            "162/162 [==============================] - 3s 18ms/step - loss: 1.3519 - accuracy: 0.5231 - val_loss: 1.4081 - val_accuracy: 0.5418\n",
            "Epoch 4/100\n",
            "162/162 [==============================] - 3s 18ms/step - loss: 1.0346 - accuracy: 0.6427 - val_loss: 1.2863 - val_accuracy: 0.5635\n",
            "Epoch 5/100\n",
            "162/162 [==============================] - 3s 18ms/step - loss: 0.8912 - accuracy: 0.7045 - val_loss: 0.8574 - val_accuracy: 0.6966\n",
            "Epoch 6/100\n",
            "162/162 [==============================] - 3s 18ms/step - loss: 0.6667 - accuracy: 0.7747 - val_loss: 0.8050 - val_accuracy: 0.7647\n",
            "Epoch 7/100\n",
            "162/162 [==============================] - 3s 18ms/step - loss: 0.5333 - accuracy: 0.8341 - val_loss: 0.7380 - val_accuracy: 0.7802\n",
            "Epoch 8/100\n",
            "162/162 [==============================] - 3s 18ms/step - loss: 0.5109 - accuracy: 0.8418 - val_loss: 0.6913 - val_accuracy: 0.7895\n",
            "Epoch 9/100\n",
            "162/162 [==============================] - 3s 18ms/step - loss: 0.3721 - accuracy: 0.8819 - val_loss: 1.1992 - val_accuracy: 0.7152\n",
            "Epoch 10/100\n",
            "162/162 [==============================] - 3s 18ms/step - loss: 0.4221 - accuracy: 0.8758 - val_loss: 0.4557 - val_accuracy: 0.8545\n",
            "Epoch 11/100\n",
            "162/162 [==============================] - 3s 18ms/step - loss: 0.2676 - accuracy: 0.9221 - val_loss: 0.4746 - val_accuracy: 0.8545\n",
            "Epoch 12/100\n",
            "162/162 [==============================] - 3s 18ms/step - loss: 0.2704 - accuracy: 0.9159 - val_loss: 0.5379 - val_accuracy: 0.8235\n",
            "Epoch 13/100\n",
            "162/162 [==============================] - 3s 18ms/step - loss: 0.2405 - accuracy: 0.9329 - val_loss: 0.4950 - val_accuracy: 0.8359\n",
            "Epoch 14/100\n",
            "162/162 [==============================] - 3s 19ms/step - loss: 0.2329 - accuracy: 0.9244 - val_loss: 0.9110 - val_accuracy: 0.7554\n",
            "Epoch 15/100\n",
            "162/162 [==============================] - 3s 20ms/step - loss: 0.2297 - accuracy: 0.9275 - val_loss: 0.3835 - val_accuracy: 0.8731\n",
            "Epoch 16/100\n",
            "162/162 [==============================] - 3s 19ms/step - loss: 0.1802 - accuracy: 0.9421 - val_loss: 0.4318 - val_accuracy: 0.8793\n",
            "Epoch 17/100\n",
            "162/162 [==============================] - 3s 20ms/step - loss: 0.2850 - accuracy: 0.9151 - val_loss: 0.6309 - val_accuracy: 0.8359\n",
            "Epoch 18/100\n",
            "162/162 [==============================] - 4s 25ms/step - loss: 0.2091 - accuracy: 0.9313 - val_loss: 0.3725 - val_accuracy: 0.8824\n",
            "Epoch 19/100\n",
            "162/162 [==============================] - 4s 26ms/step - loss: 0.1418 - accuracy: 0.9583 - val_loss: 0.3170 - val_accuracy: 0.9040\n",
            "Epoch 20/100\n",
            "162/162 [==============================] - 3s 21ms/step - loss: 0.1130 - accuracy: 0.9676 - val_loss: 0.3354 - val_accuracy: 0.9164\n",
            "Epoch 21/100\n",
            "162/162 [==============================] - 3s 21ms/step - loss: 0.0996 - accuracy: 0.9637 - val_loss: 0.3252 - val_accuracy: 0.9009\n",
            "Epoch 22/100\n",
            "162/162 [==============================] - 4s 22ms/step - loss: 0.1348 - accuracy: 0.9622 - val_loss: 0.2944 - val_accuracy: 0.9195\n",
            "Epoch 23/100\n",
            "162/162 [==============================] - 4s 25ms/step - loss: 0.0899 - accuracy: 0.9730 - val_loss: 0.2926 - val_accuracy: 0.9102\n",
            "Epoch 24/100\n",
            "162/162 [==============================] - 3s 17ms/step - loss: 0.0794 - accuracy: 0.9776 - val_loss: 0.3227 - val_accuracy: 0.9164\n",
            "Epoch 25/100\n",
            "162/162 [==============================] - 2s 15ms/step - loss: 0.0704 - accuracy: 0.9823 - val_loss: 0.3287 - val_accuracy: 0.9164\n",
            "Epoch 26/100\n",
            "162/162 [==============================] - 3s 16ms/step - loss: 0.0765 - accuracy: 0.9807 - val_loss: 0.5446 - val_accuracy: 0.8916\n",
            "Epoch 27/100\n",
            "162/162 [==============================] - 2s 13ms/step - loss: 0.3522 - accuracy: 0.8997 - val_loss: 0.6734 - val_accuracy: 0.8173\n",
            "Epoch 28/100\n",
            "162/162 [==============================] - 2s 14ms/step - loss: 0.2407 - accuracy: 0.9313 - val_loss: 0.5140 - val_accuracy: 0.8421\n",
            "Epoch 29/100\n",
            "162/162 [==============================] - 2s 14ms/step - loss: 0.1113 - accuracy: 0.9653 - val_loss: 0.2984 - val_accuracy: 0.9226\n",
            "Epoch 30/100\n",
            "162/162 [==============================] - 2s 12ms/step - loss: 0.0767 - accuracy: 0.9799 - val_loss: 0.2998 - val_accuracy: 0.9319\n",
            "Epoch 31/100\n",
            "162/162 [==============================] - 2s 13ms/step - loss: 0.0655 - accuracy: 0.9823 - val_loss: 0.3138 - val_accuracy: 0.9381\n",
            "Epoch 32/100\n",
            "162/162 [==============================] - 2s 12ms/step - loss: 0.0584 - accuracy: 0.9846 - val_loss: 0.3098 - val_accuracy: 0.9319\n",
            "Epoch 33/100\n",
            "162/162 [==============================] - 2s 13ms/step - loss: 0.0591 - accuracy: 0.9815 - val_loss: 0.4128 - val_accuracy: 0.8947\n",
            "Epoch 34/100\n",
            "162/162 [==============================] - 2s 14ms/step - loss: 0.4582 - accuracy: 0.8989 - val_loss: 0.3110 - val_accuracy: 0.9257\n",
            "Epoch 35/100\n",
            "162/162 [==============================] - 2s 13ms/step - loss: 0.0855 - accuracy: 0.9761 - val_loss: 0.2780 - val_accuracy: 0.9257\n",
            "Epoch 36/100\n",
            "162/162 [==============================] - 3s 16ms/step - loss: 0.0627 - accuracy: 0.9846 - val_loss: 0.2670 - val_accuracy: 0.9226\n",
            "Epoch 37/100\n",
            "162/162 [==============================] - 3s 16ms/step - loss: 0.0571 - accuracy: 0.9838 - val_loss: 0.2614 - val_accuracy: 0.9257\n",
            "Epoch 38/100\n",
            "162/162 [==============================] - 3s 19ms/step - loss: 0.0525 - accuracy: 0.9853 - val_loss: 0.2846 - val_accuracy: 0.9288\n",
            "Epoch 39/100\n",
            "162/162 [==============================] - 3s 19ms/step - loss: 0.0480 - accuracy: 0.9861 - val_loss: 0.2945 - val_accuracy: 0.9288\n",
            "Epoch 40/100\n",
            "162/162 [==============================] - 3s 15ms/step - loss: 0.0469 - accuracy: 0.9853 - val_loss: 0.3243 - val_accuracy: 0.9288\n",
            "Epoch 41/100\n",
            "162/162 [==============================] - 3s 17ms/step - loss: 0.0619 - accuracy: 0.9823 - val_loss: 0.9429 - val_accuracy: 0.8266\n",
            "Epoch 42/100\n",
            "162/162 [==============================] - 3s 18ms/step - loss: 0.1966 - accuracy: 0.9336 - val_loss: 0.8768 - val_accuracy: 0.8266\n",
            "Epoch 43/100\n",
            "162/162 [==============================] - 2s 15ms/step - loss: 0.1287 - accuracy: 0.9529 - val_loss: 0.4132 - val_accuracy: 0.9102\n",
            "Epoch 44/100\n",
            "162/162 [==============================] - 3s 15ms/step - loss: 0.0582 - accuracy: 0.9823 - val_loss: 0.2803 - val_accuracy: 0.9412\n",
            "Epoch 45/100\n",
            "162/162 [==============================] - 3s 21ms/step - loss: 0.0449 - accuracy: 0.9869 - val_loss: 0.2822 - val_accuracy: 0.9381\n",
            "Epoch 46/100\n",
            "162/162 [==============================] - 4s 21ms/step - loss: 0.0411 - accuracy: 0.9877 - val_loss: 0.2850 - val_accuracy: 0.9350\n",
            "Epoch 47/100\n",
            "162/162 [==============================] - 3s 15ms/step - loss: 0.0401 - accuracy: 0.9861 - val_loss: 0.2916 - val_accuracy: 0.9350\n",
            "Epoch 48/100\n",
            "162/162 [==============================] - 3s 17ms/step - loss: 0.0406 - accuracy: 0.9853 - val_loss: 0.3005 - val_accuracy: 0.9319\n",
            "Epoch 49/100\n",
            "162/162 [==============================] - 2s 15ms/step - loss: 0.0349 - accuracy: 0.9877 - val_loss: 0.3123 - val_accuracy: 0.9350\n",
            "Epoch 50/100\n",
            "162/162 [==============================] - 3s 15ms/step - loss: 0.0343 - accuracy: 0.9877 - val_loss: 0.3256 - val_accuracy: 0.9319\n",
            "Epoch 51/100\n",
            "162/162 [==============================] - 3s 17ms/step - loss: 0.0322 - accuracy: 0.9907 - val_loss: 0.3507 - val_accuracy: 0.9319\n",
            "Epoch 52/100\n",
            "162/162 [==============================] - 3s 17ms/step - loss: 0.0301 - accuracy: 0.9900 - val_loss: 0.4090 - val_accuracy: 0.9226\n",
            "Epoch 53/100\n",
            "162/162 [==============================] - 3s 18ms/step - loss: 0.0284 - accuracy: 0.9923 - val_loss: 0.3902 - val_accuracy: 0.9288\n",
            "Epoch 54/100\n",
            "162/162 [==============================] - 4s 23ms/step - loss: 0.0377 - accuracy: 0.9861 - val_loss: 1.3810 - val_accuracy: 0.8452\n",
            "Epoch 55/100\n",
            "162/162 [==============================] - 4s 24ms/step - loss: 0.4823 - accuracy: 0.8997 - val_loss: 0.5664 - val_accuracy: 0.8607\n",
            "Epoch 56/100\n",
            "162/162 [==============================] - 3s 21ms/step - loss: 0.0947 - accuracy: 0.9715 - val_loss: 0.2382 - val_accuracy: 0.9381\n",
            "Epoch 57/100\n",
            "162/162 [==============================] - 3s 20ms/step - loss: 0.0388 - accuracy: 0.9900 - val_loss: 0.2594 - val_accuracy: 0.9350\n",
            "Epoch 58/100\n",
            "162/162 [==============================] - 3s 19ms/step - loss: 0.0331 - accuracy: 0.9907 - val_loss: 0.2720 - val_accuracy: 0.9381\n",
            "Epoch 59/100\n",
            "162/162 [==============================] - 3s 18ms/step - loss: 0.0296 - accuracy: 0.9915 - val_loss: 0.3095 - val_accuracy: 0.9319\n",
            "Epoch 60/100\n",
            "162/162 [==============================] - 3s 18ms/step - loss: 0.0280 - accuracy: 0.9923 - val_loss: 0.3138 - val_accuracy: 0.9412\n",
            "Epoch 61/100\n",
            "162/162 [==============================] - 3s 18ms/step - loss: 0.0251 - accuracy: 0.9931 - val_loss: 0.3502 - val_accuracy: 0.9350\n",
            "Epoch 62/100\n",
            "162/162 [==============================] - 3s 18ms/step - loss: 0.0254 - accuracy: 0.9931 - val_loss: 0.3434 - val_accuracy: 0.9319\n",
            "Epoch 63/100\n",
            "162/162 [==============================] - 3s 18ms/step - loss: 0.0217 - accuracy: 0.9946 - val_loss: 0.3925 - val_accuracy: 0.9288\n",
            "Epoch 64/100\n",
            "162/162 [==============================] - 3s 19ms/step - loss: 0.0215 - accuracy: 0.9931 - val_loss: 0.4060 - val_accuracy: 0.9319\n",
            "Epoch 65/100\n",
            "162/162 [==============================] - 3s 18ms/step - loss: 0.0196 - accuracy: 0.9946 - val_loss: 0.4453 - val_accuracy: 0.9319\n",
            "Epoch 66/100\n",
            "162/162 [==============================] - 3s 18ms/step - loss: 0.0199 - accuracy: 0.9931 - val_loss: 0.4461 - val_accuracy: 0.9288\n",
            "Epoch 67/100\n",
            "162/162 [==============================] - 3s 19ms/step - loss: 0.0173 - accuracy: 0.9946 - val_loss: 0.5126 - val_accuracy: 0.9226\n",
            "Epoch 68/100\n",
            "162/162 [==============================] - 3s 21ms/step - loss: 0.0186 - accuracy: 0.9946 - val_loss: 0.5526 - val_accuracy: 0.9257\n",
            "Epoch 69/100\n",
            "162/162 [==============================] - 3s 18ms/step - loss: 0.0195 - accuracy: 0.9923 - val_loss: 0.5463 - val_accuracy: 0.9257\n",
            "Epoch 70/100\n",
            "162/162 [==============================] - 3s 18ms/step - loss: 0.0156 - accuracy: 0.9954 - val_loss: 0.5359 - val_accuracy: 0.9195\n",
            "Epoch 71/100\n",
            "162/162 [==============================] - 3s 18ms/step - loss: 0.0150 - accuracy: 0.9954 - val_loss: 0.5377 - val_accuracy: 0.9195\n",
            "Epoch 72/100\n",
            "162/162 [==============================] - 3s 21ms/step - loss: 0.0145 - accuracy: 0.9954 - val_loss: 0.5605 - val_accuracy: 0.9319\n",
            "Epoch 73/100\n",
            "162/162 [==============================] - 3s 20ms/step - loss: 0.2457 - accuracy: 0.9545 - val_loss: 0.8701 - val_accuracy: 0.8452\n",
            "Epoch 74/100\n",
            "162/162 [==============================] - 3s 20ms/step - loss: 0.3041 - accuracy: 0.9182 - val_loss: 0.2889 - val_accuracy: 0.9319\n",
            "Epoch 75/100\n",
            "162/162 [==============================] - 3s 20ms/step - loss: 0.0541 - accuracy: 0.9869 - val_loss: 0.2394 - val_accuracy: 0.9381\n",
            "Epoch 76/100\n",
            "162/162 [==============================] - 3s 20ms/step - loss: 0.0327 - accuracy: 0.9923 - val_loss: 0.2517 - val_accuracy: 0.9412\n",
            "Epoch 77/100\n",
            "162/162 [==============================] - 3s 20ms/step - loss: 0.0240 - accuracy: 0.9938 - val_loss: 0.2720 - val_accuracy: 0.9350\n",
            "Epoch 78/100\n",
            "162/162 [==============================] - 3s 18ms/step - loss: 0.0206 - accuracy: 0.9946 - val_loss: 0.3008 - val_accuracy: 0.9381\n",
            "Epoch 79/100\n",
            "162/162 [==============================] - 3s 18ms/step - loss: 0.0181 - accuracy: 0.9946 - val_loss: 0.3087 - val_accuracy: 0.9257\n",
            "Epoch 80/100\n",
            "162/162 [==============================] - 3s 18ms/step - loss: 0.0161 - accuracy: 0.9954 - val_loss: 0.3362 - val_accuracy: 0.9195\n",
            "Epoch 81/100\n",
            "162/162 [==============================] - 3s 18ms/step - loss: 0.0153 - accuracy: 0.9946 - val_loss: 0.3548 - val_accuracy: 0.9195\n",
            "Epoch 82/100\n",
            "162/162 [==============================] - 3s 20ms/step - loss: 0.0146 - accuracy: 0.9954 - val_loss: 0.3770 - val_accuracy: 0.9226\n",
            "Epoch 83/100\n",
            "162/162 [==============================] - 3s 21ms/step - loss: 0.0138 - accuracy: 0.9954 - val_loss: 0.4033 - val_accuracy: 0.9195\n",
            "Epoch 84/100\n",
            "162/162 [==============================] - 3s 20ms/step - loss: 0.0132 - accuracy: 0.9954 - val_loss: 0.4292 - val_accuracy: 0.9164\n",
            "Epoch 85/100\n",
            "162/162 [==============================] - 3s 20ms/step - loss: 0.0126 - accuracy: 0.9954 - val_loss: 0.4479 - val_accuracy: 0.9133\n",
            "Epoch 86/100\n",
            "162/162 [==============================] - 4s 23ms/step - loss: 0.0126 - accuracy: 0.9954 - val_loss: 0.4639 - val_accuracy: 0.9195\n",
            "Epoch 87/100\n",
            "162/162 [==============================] - 4s 22ms/step - loss: 0.0146 - accuracy: 0.9946 - val_loss: 0.4921 - val_accuracy: 0.9133\n",
            "Epoch 88/100\n",
            "162/162 [==============================] - 3s 20ms/step - loss: 0.0126 - accuracy: 0.9954 - val_loss: 0.5004 - val_accuracy: 0.9133\n",
            "Epoch 89/100\n",
            "162/162 [==============================] - 3s 21ms/step - loss: 0.0116 - accuracy: 0.9954 - val_loss: 0.5252 - val_accuracy: 0.9195\n",
            "Epoch 90/100\n",
            "162/162 [==============================] - 3s 20ms/step - loss: 0.0110 - accuracy: 0.9954 - val_loss: 0.5640 - val_accuracy: 0.9133\n",
            "Epoch 91/100\n",
            "162/162 [==============================] - 3s 19ms/step - loss: 0.0112 - accuracy: 0.9961 - val_loss: 0.5900 - val_accuracy: 0.9133\n",
            "Epoch 92/100\n",
            "162/162 [==============================] - 3s 18ms/step - loss: 0.0108 - accuracy: 0.9954 - val_loss: 0.6224 - val_accuracy: 0.9133\n",
            "Epoch 93/100\n",
            "162/162 [==============================] - 3s 18ms/step - loss: 0.0104 - accuracy: 0.9961 - val_loss: 0.6606 - val_accuracy: 0.9133\n",
            "Epoch 94/100\n",
            "162/162 [==============================] - 3s 19ms/step - loss: 0.0104 - accuracy: 0.9961 - val_loss: 0.6643 - val_accuracy: 0.9133\n",
            "Epoch 95/100\n",
            "162/162 [==============================] - 3s 19ms/step - loss: 0.0100 - accuracy: 0.9961 - val_loss: 0.6978 - val_accuracy: 0.9102\n",
            "Epoch 96/100\n",
            "162/162 [==============================] - 3s 19ms/step - loss: 0.0091 - accuracy: 0.9969 - val_loss: 0.7034 - val_accuracy: 0.9102\n",
            "Epoch 97/100\n",
            "162/162 [==============================] - 3s 18ms/step - loss: 0.0088 - accuracy: 0.9969 - val_loss: 0.7149 - val_accuracy: 0.9102\n",
            "Epoch 98/100\n",
            "162/162 [==============================] - 3s 20ms/step - loss: 0.5347 - accuracy: 0.9221 - val_loss: 0.4729 - val_accuracy: 0.9164\n",
            "Epoch 99/100\n",
            "162/162 [==============================] - 3s 21ms/step - loss: 0.1191 - accuracy: 0.9637 - val_loss: 0.3778 - val_accuracy: 0.9226\n",
            "Epoch 100/100\n",
            "162/162 [==============================] - 3s 21ms/step - loss: 0.0513 - accuracy: 0.9869 - val_loss: 0.3624 - val_accuracy: 0.9350\n"
          ]
        },
        {
          "data": {
            "text/plain": [
              "<keras.src.callbacks.History at 0x7fb895d9a110>"
            ]
          },
          "execution_count": 6,
          "metadata": {},
          "output_type": "execute_result"
        }
      ],
      "source": [
        "model.fit(train_data, validation_data=validation_data, epochs=100)"
      ]
    },
    {
      "cell_type": "code",
      "execution_count": 7,
      "metadata": {},
      "outputs": [
        {
          "name": "stderr",
          "output_type": "stream",
          "text": [
            "/home/mohammad/.local/lib/python3.10/site-packages/keras/src/engine/training.py:3103: UserWarning: You are saving your model as an HDF5 file via `model.save()`. This file format is considered legacy. We recommend using instead the native Keras format, e.g. `model.save('my_model.keras')`.\n",
            "  saving_api.save_model(\n"
          ]
        }
      ],
      "source": [
        "model.save('audio_friends.h5')"
      ]
    }
  ],
  "metadata": {
    "accelerator": "GPU",
    "colab": {
      "gpuType": "T4",
      "provenance": []
    },
    "kernelspec": {
      "display_name": "Python 3",
      "name": "python3"
    },
    "language_info": {
      "codemirror_mode": {
        "name": "ipython",
        "version": 3
      },
      "file_extension": ".py",
      "mimetype": "text/x-python",
      "name": "python",
      "nbconvert_exporter": "python",
      "pygments_lexer": "ipython3",
      "version": "3.10.12"
    }
  },
  "nbformat": 4,
  "nbformat_minor": 0
}
