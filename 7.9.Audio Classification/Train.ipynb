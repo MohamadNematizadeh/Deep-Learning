{
  "cells": [
    {
      "cell_type": "code",
      "execution_count": 7,
      "metadata": {
        "id": "8ZF9k9rEl1ao"
      },
      "outputs": [],
      "source": [
        "import tensorflow as tf"
      ]
    },
    {
      "cell_type": "code",
      "execution_count": 9,
      "metadata": {
        "colab": {
          "base_uri": "https://localhost:8080/"
        },
        "id": "8pOrGn3nIgq4",
        "outputId": "eb4168c3-f830-4cb1-bf23-31d86ed2b6ed"
      },
      "outputs": [
        {
          "name": "stdout",
          "output_type": "stream",
          "text": [
            "Found 1683 files belonging to 18 classes.\n",
            "Using 1347 files for training.\n",
            "Found 1683 files belonging to 18 classes.\n",
            "Using 336 files for validation.\n"
          ]
        }
      ],
      "source": [
        "data_path = \"dataset\"\n",
        "data_test = \"data_test\"\n",
        "train_data = tf.keras.utils.audio_dataset_from_directory(\n",
        "    data_path,\n",
        "    batch_size=4,\n",
        "    shuffle=True,\n",
        "    validation_split=0.2,\n",
        "    subset=\"training\",\n",
        "    output_sequence_length=48000,\n",
        "    ragged=False,\n",
        "    label_mode=\"categorical\",\n",
        "    labels=\"inferred\",\n",
        "    sampling_rate=None,\n",
        "    seed=60\n",
        "\n",
        ")\n",
        "validation_data = tf.keras.utils.audio_dataset_from_directory(\n",
        "    data_path,\n",
        "    batch_size=4,\n",
        "    shuffle=True,\n",
        "    validation_split=0.2,\n",
        "    subset=\"validation\",\n",
        "    output_sequence_length=48000,\n",
        "    ragged=False,\n",
        "    label_mode=\"categorical\",\n",
        "    labels=\"inferred\",\n",
        "    sampling_rate=None,\n",
        "    seed=2\n",
        ")\n"
      ]
    },
    {
      "cell_type": "code",
      "execution_count": 19,
      "metadata": {
        "id": "LO89cEVdY9lK"
      },
      "outputs": [],
      "source": [
        "model = tf.keras.models.Sequential([\n",
        "    tf.keras.layers.Conv1D(32, kernel_size=80,strides=16,activation=\"relu\", input_shape=(48000 , 1)),\n",
        "    tf.keras.layers.MaxPooling1D(4),\n",
        "    tf.keras.layers.Conv1D(32, kernel_size=3,activation=\"relu\"),\n",
        "    tf.keras.layers.MaxPooling1D(4),\n",
        "    tf.keras.layers.Conv1D(64, kernel_size=3,activation=\"relu\"),\n",
        "    tf.keras.layers.MaxPooling1D(4),\n",
        "    tf.keras.layers.Conv1D(64, kernel_size=3,activation=\"relu\"),\n",
        "    tf.keras.layers.MaxPooling1D(4),\n",
        "    tf.keras.layers.Conv1D(74, kernel_size=3,activation=\"relu\"),\n",
        "    tf.keras.layers.MaxPooling1D(4),\n",
        "\n",
        "    tf.keras.layers.Flatten(),\n",
        "    tf.keras.layers.Dense(18,activation=\"softmax\"),\n",
        "\n",
        "])"
      ]
    },
    {
      "cell_type": "code",
      "execution_count": 20,
      "metadata": {
        "colab": {
          "base_uri": "https://localhost:8080/"
        },
        "id": "4nXiie_ieoEJ",
        "outputId": "99a83f49-c929-4e65-9ffa-7b8c80c4b610"
      },
      "outputs": [
        {
          "name": "stdout",
          "output_type": "stream",
          "text": [
            "Model: \"sequential_4\"\n",
            "_________________________________________________________________\n",
            " Layer (type)                Output Shape              Param #   \n",
            "=================================================================\n",
            " conv1d_22 (Conv1D)          (None, 2996, 32)          2592      \n",
            "                                                                 \n",
            " max_pooling1d_21 (MaxPooli  (None, 749, 32)           0         \n",
            " ng1D)                                                           \n",
            "                                                                 \n",
            " conv1d_23 (Conv1D)          (None, 747, 32)           3104      \n",
            "                                                                 \n",
            " max_pooling1d_22 (MaxPooli  (None, 186, 32)           0         \n",
            " ng1D)                                                           \n",
            "                                                                 \n",
            " conv1d_24 (Conv1D)          (None, 184, 64)           6208      \n",
            "                                                                 \n",
            " max_pooling1d_23 (MaxPooli  (None, 46, 64)            0         \n",
            " ng1D)                                                           \n",
            "                                                                 \n",
            " conv1d_25 (Conv1D)          (None, 44, 64)            12352     \n",
            "                                                                 \n",
            " max_pooling1d_24 (MaxPooli  (None, 11, 64)            0         \n",
            " ng1D)                                                           \n",
            "                                                                 \n",
            " conv1d_26 (Conv1D)          (None, 9, 74)             14282     \n",
            "                                                                 \n",
            " max_pooling1d_25 (MaxPooli  (None, 2, 74)             0         \n",
            " ng1D)                                                           \n",
            "                                                                 \n",
            " flatten_4 (Flatten)         (None, 148)               0         \n",
            "                                                                 \n",
            " dense_4 (Dense)             (None, 18)                2682      \n",
            "                                                                 \n",
            "=================================================================\n",
            "Total params: 41220 (161.02 KB)\n",
            "Trainable params: 41220 (161.02 KB)\n",
            "Non-trainable params: 0 (0.00 Byte)\n",
            "_________________________________________________________________\n"
          ]
        }
      ],
      "source": [
        "model.summary()"
      ]
    },
    {
      "cell_type": "code",
      "execution_count": 21,
      "metadata": {
        "id": "htoEfgXMe6sO"
      },
      "outputs": [],
      "source": [
        "model.compile(\n",
        "    optimizer=tf.keras.optimizers.Adam(learning_rate=0.0001),\n",
        "    loss='categorical_crossentropy',\n",
        "    metrics=['accuracy']\n",
        ")"
      ]
    },
    {
      "cell_type": "code",
      "execution_count": 22,
      "metadata": {},
      "outputs": [
        {
          "name": "stdout",
          "output_type": "stream",
          "text": [
            "Epoch 1/24\n",
            "337/337 [==============================] - 6s 15ms/step - loss: 2.7844 - accuracy: 0.0935 - val_loss: 2.6170 - val_accuracy: 0.1667\n",
            "Epoch 2/24\n",
            "337/337 [==============================] - 5s 14ms/step - loss: 2.5671 - accuracy: 0.1507 - val_loss: 2.4077 - val_accuracy: 0.1964\n",
            "Epoch 3/24\n",
            "337/337 [==============================] - 5s 15ms/step - loss: 2.3160 - accuracy: 0.2287 - val_loss: 2.1029 - val_accuracy: 0.3452\n",
            "Epoch 4/24\n",
            "337/337 [==============================] - 5s 14ms/step - loss: 1.9725 - accuracy: 0.4039 - val_loss: 1.7212 - val_accuracy: 0.4881\n",
            "Epoch 5/24\n",
            "337/337 [==============================] - 5s 14ms/step - loss: 1.6409 - accuracy: 0.4944 - val_loss: 1.4508 - val_accuracy: 0.5536\n",
            "Epoch 6/24\n",
            "337/337 [==============================] - 5s 14ms/step - loss: 1.4346 - accuracy: 0.5434 - val_loss: 1.2883 - val_accuracy: 0.5774\n",
            "Epoch 7/24\n",
            "337/337 [==============================] - 5s 14ms/step - loss: 1.2843 - accuracy: 0.5828 - val_loss: 1.1888 - val_accuracy: 0.6071\n",
            "Epoch 8/24\n",
            "337/337 [==============================] - 5s 14ms/step - loss: 1.1931 - accuracy: 0.6102 - val_loss: 1.0836 - val_accuracy: 0.6696\n",
            "Epoch 9/24\n",
            "337/337 [==============================] - 5s 14ms/step - loss: 1.1127 - accuracy: 0.6511 - val_loss: 1.0299 - val_accuracy: 0.6875\n",
            "Epoch 10/24\n",
            "337/337 [==============================] - 5s 15ms/step - loss: 1.0318 - accuracy: 0.6830 - val_loss: 0.9812 - val_accuracy: 0.6905\n",
            "Epoch 11/24\n",
            "337/337 [==============================] - 5s 14ms/step - loss: 0.9727 - accuracy: 0.7023 - val_loss: 0.9235 - val_accuracy: 0.7113\n",
            "Epoch 12/24\n",
            "337/337 [==============================] - 5s 14ms/step - loss: 0.9256 - accuracy: 0.7060 - val_loss: 0.9649 - val_accuracy: 0.6845\n",
            "Epoch 13/24\n",
            "337/337 [==============================] - 5s 14ms/step - loss: 0.8805 - accuracy: 0.7290 - val_loss: 0.8809 - val_accuracy: 0.7143\n",
            "Epoch 14/24\n",
            "337/337 [==============================] - 5s 14ms/step - loss: 0.8396 - accuracy: 0.7275 - val_loss: 0.8111 - val_accuracy: 0.7351\n",
            "Epoch 15/24\n",
            "337/337 [==============================] - 5s 14ms/step - loss: 0.7952 - accuracy: 0.7483 - val_loss: 0.7713 - val_accuracy: 0.7589\n",
            "Epoch 16/24\n",
            "337/337 [==============================] - 5s 15ms/step - loss: 0.7757 - accuracy: 0.7550 - val_loss: 0.7475 - val_accuracy: 0.7530\n",
            "Epoch 17/24\n",
            "337/337 [==============================] - 5s 15ms/step - loss: 0.7315 - accuracy: 0.7736 - val_loss: 0.7162 - val_accuracy: 0.7768\n",
            "Epoch 18/24\n",
            "337/337 [==============================] - 5s 14ms/step - loss: 0.7055 - accuracy: 0.7773 - val_loss: 0.7469 - val_accuracy: 0.7560\n",
            "Epoch 19/24\n",
            "337/337 [==============================] - 5s 14ms/step - loss: 0.6824 - accuracy: 0.7892 - val_loss: 0.6758 - val_accuracy: 0.7857\n",
            "Epoch 20/24\n",
            "337/337 [==============================] - 5s 15ms/step - loss: 0.6516 - accuracy: 0.7966 - val_loss: 0.6715 - val_accuracy: 0.7798\n",
            "Epoch 21/24\n",
            "337/337 [==============================] - 5s 14ms/step - loss: 0.6269 - accuracy: 0.8025 - val_loss: 0.6226 - val_accuracy: 0.8036\n",
            "Epoch 22/24\n",
            "337/337 [==============================] - 5s 15ms/step - loss: 0.6085 - accuracy: 0.8048 - val_loss: 0.6141 - val_accuracy: 0.7976\n",
            "Epoch 23/24\n",
            "337/337 [==============================] - 5s 15ms/step - loss: 0.5994 - accuracy: 0.8196 - val_loss: 0.6414 - val_accuracy: 0.7857\n",
            "Epoch 24/24\n",
            "337/337 [==============================] - 5s 15ms/step - loss: 0.5705 - accuracy: 0.8293 - val_loss: 0.6212 - val_accuracy: 0.7976\n"
          ]
        },
        {
          "data": {
            "text/plain": [
              "<keras.src.callbacks.History at 0x7f324ad83af0>"
            ]
          },
          "execution_count": 22,
          "metadata": {},
          "output_type": "execute_result"
        }
      ],
      "source": [
        "model.fit(train_data, validation_data=validation_data, epochs=24)"
      ]
    },
    {
      "cell_type": "code",
      "execution_count": 23,
      "metadata": {},
      "outputs": [],
      "source": [
        "model.save('audio.h5')"
      ]
    }
  ],
  "metadata": {
    "accelerator": "GPU",
    "colab": {
      "gpuType": "T4",
      "provenance": []
    },
    "kernelspec": {
      "display_name": "Python 3",
      "name": "python3"
    },
    "language_info": {
      "codemirror_mode": {
        "name": "ipython",
        "version": 3
      },
      "file_extension": ".py",
      "mimetype": "text/x-python",
      "name": "python",
      "nbconvert_exporter": "python",
      "pygments_lexer": "ipython3",
      "version": "3.10.12"
    }
  },
  "nbformat": 4,
  "nbformat_minor": 0
}
