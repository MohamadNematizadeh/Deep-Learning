{
 "cells": [
  {
   "cell_type": "code",
   "execution_count": 1,
   "metadata": {},
   "outputs": [],
   "source": [
    "import tensorflow as tf\n",
    "import matplotlib.pyplot as plt\n",
    "from sklearn.model_selection import train_test_split"
   ]
  },
  {
   "cell_type": "code",
   "execution_count": 2,
   "metadata": {},
   "outputs": [],
   "source": [
    "fashion_mnist = tf.keras.datasets.fashion_mnist\n",
    "(X_train, Y_train), (X_test, Y_test) = fashion_mnist.load_data()\n",
    "X_train = X_train.reshape(60000,784)\n",
    "X_test = X_test.reshape(10000,784)"
   ]
  },
  {
   "cell_type": "code",
   "execution_count": 3,
   "metadata": {},
   "outputs": [],
   "source": [
    "\n",
    "model = tf.keras.models.Sequential([\n",
    "        tf.keras.layers.Dense(64, input_dim = X_train.shape[1], activation='relu'),\n",
    "        tf.keras.layers.Dense(32, activation='relu'),\n",
    "         tf.keras.layers.Dense(10, activation='softmax')\n",
    "])"
   ]
  },
  {
   "cell_type": "code",
   "execution_count": 4,
   "metadata": {},
   "outputs": [],
   "source": [
    "model.compile(optimizer=tf.keras.optimizers.Adam(),\n",
    "              loss = tf.keras.losses.sparse_categorical_crossentropy,\n",
    "              metrics = ['accuracy'])"
   ]
  },
  {
   "cell_type": "code",
   "execution_count": 5,
   "metadata": {},
   "outputs": [
    {
     "name": "stdout",
     "output_type": "stream",
     "text": [
      "Epoch 1/15\n",
      "1875/1875 [==============================] - 8s 3ms/step - loss: 1.7957 - accuracy: 0.4821\n",
      "Epoch 2/15\n",
      "1875/1875 [==============================] - 6s 3ms/step - loss: 0.9425 - accuracy: 0.6293\n",
      "Epoch 3/15\n",
      "1875/1875 [==============================] - 6s 3ms/step - loss: 0.7736 - accuracy: 0.6951\n",
      "Epoch 4/15\n",
      "1875/1875 [==============================] - 7s 4ms/step - loss: 0.6804 - accuracy: 0.7264\n",
      "Epoch 5/15\n",
      "1875/1875 [==============================] - 5s 3ms/step - loss: 0.5950 - accuracy: 0.7568\n",
      "Epoch 6/15\n",
      "1875/1875 [==============================] - 5s 2ms/step - loss: 0.5717 - accuracy: 0.7799\n",
      "Epoch 7/15\n",
      "1875/1875 [==============================] - 7s 3ms/step - loss: 0.5177 - accuracy: 0.8094\n",
      "Epoch 8/15\n",
      "1875/1875 [==============================] - 15s 8ms/step - loss: 0.4907 - accuracy: 0.8251\n",
      "Epoch 9/15\n",
      "1875/1875 [==============================] - 15s 8ms/step - loss: 0.4561 - accuracy: 0.8463\n",
      "Epoch 10/15\n",
      "1875/1875 [==============================] - 14s 8ms/step - loss: 0.4387 - accuracy: 0.8520\n",
      "Epoch 11/15\n",
      "1875/1875 [==============================] - 14s 7ms/step - loss: 0.4164 - accuracy: 0.8585\n",
      "Epoch 12/15\n",
      "1875/1875 [==============================] - 14s 7ms/step - loss: 0.4059 - accuracy: 0.8614\n",
      "Epoch 13/15\n",
      "1875/1875 [==============================] - 14s 8ms/step - loss: 0.3958 - accuracy: 0.8645\n",
      "Epoch 14/15\n",
      "1875/1875 [==============================] - 13s 7ms/step - loss: 0.3861 - accuracy: 0.8691\n",
      "Epoch 15/15\n",
      "1875/1875 [==============================] - 7s 4ms/step - loss: 0.3840 - accuracy: 0.8703\n",
      "313/313 [==============================] - 1s 2ms/step - loss: 0.4888 - accuracy: 0.8392\n"
     ]
    },
    {
     "data": {
      "text/plain": [
       "[0.48880821466445923, 0.8392000198364258]"
      ]
     },
     "execution_count": 5,
     "metadata": {},
     "output_type": "execute_result"
    }
   ],
   "source": [
    "model_output = model.fit(X_train, Y_train, epochs = 15)\n",
    "model.evaluate(X_test, Y_test)"
   ]
  }
 ],
 "metadata": {
  "interpreter": {
   "hash": "199d13cb93967aa13d64a83f049bc81008fee891a303eecd73441d2512547036"
  },
  "kernelspec": {
   "display_name": "Python 3.10.5 64-bit",
   "language": "python",
   "name": "python3"
  },
  "language_info": {
   "codemirror_mode": {
    "name": "ipython",
    "version": 3
   },
   "file_extension": ".py",
   "mimetype": "text/x-python",
   "name": "python",
   "nbconvert_exporter": "python",
   "pygments_lexer": "ipython3",
   "version": "3.10.5"
  },
  "orig_nbformat": 4
 },
 "nbformat": 4,
 "nbformat_minor": 2
}
