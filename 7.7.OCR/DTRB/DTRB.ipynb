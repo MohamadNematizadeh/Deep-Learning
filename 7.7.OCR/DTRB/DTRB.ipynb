{
  "cells": [
    {
      "cell_type": "code",
      "execution_count": null,
      "metadata": {
        "id": "lbukxdNrmh8V"
      },
      "outputs": [],
      "source": [
        "%cd /content/drive/MyDrive"
      ]
    },
    {
      "cell_type": "code",
      "execution_count": null,
      "metadata": {
        "id": "uf1-LpoEQ1Wr"
      },
      "outputs": [],
      "source": [
        "!git clone https://github.com/clovaai/deep-text-recognition-benchmark.git"
      ]
    },
    {
      "cell_type": "code",
      "execution_count": null,
      "metadata": {
        "id": "mKw1i7dVmiAU"
      },
      "outputs": [],
      "source": [
        "!gdown 1b59rXuGGmKne1AuHnkgDzoYgKeETNMv9"
      ]
    },
    {
      "cell_type": "code",
      "execution_count": null,
      "metadata": {
        "id": "Cco5VuAfkl0w"
      },
      "outputs": [],
      "source": [
        "%cd deep-text-recognition-benchmark"
      ]
    },
    {
      "cell_type": "code",
      "execution_count": null,
      "metadata": {
        "id": "GUuOrlZ-55z3"
      },
      "outputs": [],
      "source": [
        "!unzip -qq plate_img-test.zip"
      ]
    },
    {
      "cell_type": "code",
      "execution_count": null,
      "metadata": {
        "id": "EiiXMsvx4qa3"
      },
      "outputs": [],
      "source": [
        "!pip install lmdb\n",
        "!pip3 install fire"
      ]
    },
    {
      "cell_type": "code",
      "execution_count": null,
      "metadata": {
        "id": "KmDb3oHbULxM"
      },
      "outputs": [],
      "source": [
        "import xml.etree.ElementTree as ET\n",
        "import os\n",
        "\n",
        "def is_latin_char(character):\n",
        "    return character.isalpha() and ord(character) < 128\n",
        "\n",
        "def is_latin_numeral(character):\n",
        "    return character.isdigit() and ord(character) < 128\n",
        "\n",
        "dataclass = ['train','validation']\n",
        "dicts = {\n",
        "        'B': 'ب',\n",
        "        'P': 'پ',\n",
        "        'T': 'ت',\n",
        "        'Y': 'ث',\n",
        "        'Z': 'ز',\n",
        "        'X': 'ش',\n",
        "        'E': 'ع',\n",
        "        'F': 'ف',\n",
        "        'K': 'ک',\n",
        "        'G': 'گ',\n",
        "        'D': 'D',\n",
        "        'S': 'S',\n",
        "        'J': 'ج',\n",
        "        'W': 'د',\n",
        "        'C': 'س',\n",
        "        'U': 'ص',\n",
        "        'R': 'ط',\n",
        "        'Q': 'ق',\n",
        "        'L': 'ل',\n",
        "        'M': 'م',\n",
        "        'N': 'ن',\n",
        "        'V': 'و',\n",
        "        'H': 'ه',\n",
        "        'I': 'ی',\n",
        "        '0': '۰',\n",
        "        '1': '۱',\n",
        "        '2': '۲',\n",
        "        '3': '۳',\n",
        "        '4': '۴',\n",
        "        '5': '۵',\n",
        "        '6': '۶',\n",
        "        '7': '۷',\n",
        "        '8': '۸',\n",
        "        '9': '۹',\n",
        "\n",
        "}\n",
        "Move = {\n",
        "        'A': 'الف',\n",
        "        '@': 'ویلچر',\n",
        "    }\n",
        "for i in dataclass:\n",
        "    output_file_path = f'gt_{i}.txt'\n",
        "    f = open(output_file_path, 'w')\n",
        "    for file in os.listdir(f'{i}/'):\n",
        "        error_file = ''\n",
        "        if file.endswith('.xml'):\n",
        "            error_file = file\n",
        "            tree = ET.parse(f'{i}/{file}')\n",
        "            root = tree.getroot()\n",
        "            filename = root.find('filename').text\n",
        "            print(f'Filename: {file}')\n",
        "            name = ''\n",
        "            name_new=''\n",
        "            for obj in root.findall('object'):\n",
        "                name += obj.find('name').text\n",
        "            # print(name)\n",
        "            for key in Move:\n",
        "                if name.find(Move[key]) != -1:\n",
        "                    name_new=name.replace(Move[key], key)\n",
        "                    name = ''\n",
        "                    name = name_new\n",
        "            name_new=''\n",
        "            for index, v in enumerate(name):\n",
        "                if is_latin_char(v)==False and is_latin_numeral(v) == False:\n",
        "                    for key in dicts:\n",
        "                        if dicts[key] == v:\n",
        "                            new_name=name.replace(name[index], key)\n",
        "                            name = ''\n",
        "                            name = new_name\n",
        "            filejpg = file.split('.')\n",
        "            filesave = filejpg[0] + \".jpg\"\n",
        "            f.write(f'{filesave}\t{name}\\n')"
      ]
    },
    {
      "cell_type": "code",
      "execution_count": null,
      "metadata": {
        "id": "XIQBMXFOxbd9"
      },
      "outputs": [],
      "source": [
        "!python3 create_lmdb_dataset.py --inputPath train/ --gtFile gt_train.txt --outputPath result/train"
      ]
    },
    {
      "cell_type": "code",
      "execution_count": null,
      "metadata": {
        "id": "T6kvODuv-Sz3"
      },
      "outputs": [],
      "source": [
        "!python3 create_lmdb_dataset.py --inputPath validation/ --gtFile gt_validation.txt --outputPath result/validation"
      ]
    },
    {
      "cell_type": "code",
      "execution_count": null,
      "metadata": {
        "id": "88BH6lASSvkz"
      },
      "outputs": [],
      "source": [
        "!python3 train.py \\\n",
        "--train_data result/train --valid_data result/validation \\\n",
        "--select_data / --batch_ratio 1 --batch_max_length 8 --valInterval 100 --num_iter 4900 \\\n",
        "--Transformation TPS --FeatureExtraction ResNet --SequenceModeling BiLSTM --Prediction Attn"
      ]
    },
    {
      "cell_type": "code",
      "execution_count": null,
      "metadata": {
        "id": "DWYsBuIyf3SZ"
      },
      "outputs": [],
      "source": [
        "!python3 create_lmdb_dataset.py --inputPath test/ --gtFile gt_test.txt --outputPath result/test"
      ]
    },
    {
      "cell_type": "code",
      "execution_count": null,
      "metadata": {
        "id": "U6-nGIzJ6b-M"
      },
      "outputs": [],
      "source": [
        "!python3 test.py \\\n",
        "--eval_data result/test \\\n",
        "--saved_model saved_models/TPS-ResNet-BiLSTM-Attn-Seed1111/best_accuracy.pth \\\n",
        "--Transformation TPS --FeatureExtraction ResNet --SequenceModeling BiLSTM --Prediction Attn"
      ]
    },
    {
      "cell_type": "code",
      "execution_count": null,
      "metadata": {
        "id": "z3x8LEykneMZ"
      },
      "outputs": [],
      "source": [
        "!python3 demo.py \\\n",
        "--Transformation TPS --FeatureExtraction ResNet --SequenceModeling BiLSTM --Prediction Attn \\\n",
        "--image_folder test_imag --batch_max_length 8 \\\n",
        "--saved_model saved_models/TPS-ResNet-BiLSTM-Attn-Seed1111/best_accuracy.pth"
      ]
    },
    {
      "cell_type": "code",
      "execution_count": null,
      "metadata": {
        "id": "AYXOuJjtIPp0"
      },
      "outputs": [],
      "source": [
        "Train:\n",
        "73.918\n",
        "Test:\n",
        "73.998\n"
      ]
    },
    {
      "cell_type": "code",
      "execution_count": null,
      "metadata": {
        "id": "EL9Hf-G2lHDm"
      },
      "outputs": [],
      "source": []
    }
  ],
  "metadata": {
    "accelerator": "GPU",
    "colab": {
      "gpuType": "T4",
      "private_outputs": true,
      "provenance": []
    },
    "kernelspec": {
      "display_name": "Python 3",
      "name": "python3"
    },
    "language_info": {
      "name": "python"
    }
  },
  "nbformat": 4,
  "nbformat_minor": 0
}
