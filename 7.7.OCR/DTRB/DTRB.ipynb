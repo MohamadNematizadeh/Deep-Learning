{
  "nbformat": 4,
  "nbformat_minor": 0,
  "metadata": {
    "colab": {
      "provenance": [],
      "gpuType": "T4"
    },
    "kernelspec": {
      "name": "python3",
      "display_name": "Python 3"
    },
    "language_info": {
      "name": "python"
    },
    "accelerator": "GPU"
  },
  "cells": [
    {
      "cell_type": "code",
      "source": [
        "%cd /content/drive/MyDrive"
      ],
      "metadata": {
        "id": "lbukxdNrmh8V",
        "colab": {
          "base_uri": "https://localhost:8080/"
        },
        "outputId": "718487c5-ec2e-4936-b3ee-223b35b93201"
      },
      "execution_count": 2,
      "outputs": [
        {
          "output_type": "stream",
          "name": "stdout",
          "text": [
            "/content/drive/MyDrive\n"
          ]
        }
      ]
    },
    {
      "cell_type": "code",
      "execution_count": null,
      "metadata": {
        "id": "uf1-LpoEQ1Wr"
      },
      "outputs": [],
      "source": [
        "!git clone https://github.com/clovaai/deep-text-recognition-benchmark.git"
      ]
    },
    {
      "cell_type": "code",
      "source": [
        "!gdown 1b59rXuGGmKne1AuHnkgDzoYgKeETNMv9"
      ],
      "metadata": {
        "id": "mKw1i7dVmiAU"
      },
      "execution_count": null,
      "outputs": []
    },
    {
      "cell_type": "code",
      "source": [
        "%cd deep-text-recognition-benchmark"
      ],
      "metadata": {
        "id": "Cco5VuAfkl0w",
        "colab": {
          "base_uri": "https://localhost:8080/"
        },
        "outputId": "16fa79ae-1349-46fa-cfed-7bdf382fc6ab"
      },
      "execution_count": 3,
      "outputs": [
        {
          "output_type": "stream",
          "name": "stdout",
          "text": [
            "/content/drive/MyDrive/deep-text-recognition-benchmark\n"
          ]
        }
      ]
    },
    {
      "cell_type": "code",
      "source": [
        "!unzip -qq plate_img-test.zip"
      ],
      "metadata": {
        "id": "GUuOrlZ-55z3"
      },
      "execution_count": null,
      "outputs": []
    },
    {
      "cell_type": "code",
      "source": [
        "!pip install lmdb\n",
        "!pip3 install fire"
      ],
      "metadata": {
        "id": "EiiXMsvx4qa3",
        "colab": {
          "base_uri": "https://localhost:8080/"
        },
        "outputId": "83bc3d65-6fb1-4ca5-dd19-43916062ef49"
      },
      "execution_count": 4,
      "outputs": [
        {
          "output_type": "stream",
          "name": "stdout",
          "text": [
            "Collecting lmdb\n",
            "  Downloading lmdb-1.4.1-cp310-cp310-manylinux_2_17_x86_64.manylinux2014_x86_64.whl (299 kB)\n",
            "\u001b[?25l     \u001b[90m━━━━━━━━━━━━━━━━━━━━━━━━━━━━━━━━━━━━━━━━\u001b[0m \u001b[32m0.0/299.2 kB\u001b[0m \u001b[31m?\u001b[0m eta \u001b[36m-:--:--\u001b[0m\r\u001b[2K     \u001b[91m━━━━━━━━━━━━━━━━━━━━━━━━━━━━━━━━━━\u001b[0m\u001b[90m╺\u001b[0m\u001b[90m━━━━━\u001b[0m \u001b[32m256.0/299.2 kB\u001b[0m \u001b[31m7.4 MB/s\u001b[0m eta \u001b[36m0:00:01\u001b[0m\r\u001b[2K     \u001b[90m━━━━━━━━━━━━━━━━━━━━━━━━━━━━━━━━━━━━━━━━\u001b[0m \u001b[32m299.2/299.2 kB\u001b[0m \u001b[31m7.1 MB/s\u001b[0m eta \u001b[36m0:00:00\u001b[0m\n",
            "\u001b[?25hInstalling collected packages: lmdb\n",
            "Successfully installed lmdb-1.4.1\n",
            "Collecting fire\n",
            "  Downloading fire-0.5.0.tar.gz (88 kB)\n",
            "\u001b[2K     \u001b[90m━━━━━━━━━━━━━━━━━━━━━━━━━━━━━━━━━━━━━━━━\u001b[0m \u001b[32m88.3/88.3 kB\u001b[0m \u001b[31m2.7 MB/s\u001b[0m eta \u001b[36m0:00:00\u001b[0m\n",
            "\u001b[?25h  Preparing metadata (setup.py) ... \u001b[?25l\u001b[?25hdone\n",
            "Requirement already satisfied: six in /usr/local/lib/python3.10/dist-packages (from fire) (1.16.0)\n",
            "Requirement already satisfied: termcolor in /usr/local/lib/python3.10/dist-packages (from fire) (2.3.0)\n",
            "Building wheels for collected packages: fire\n",
            "  Building wheel for fire (setup.py) ... \u001b[?25l\u001b[?25hdone\n",
            "  Created wheel for fire: filename=fire-0.5.0-py2.py3-none-any.whl size=116933 sha256=8ec0f3cb69606696e554274d19d84731146cf79c22dd95c61fcd67d6a97f83d0\n",
            "  Stored in directory: /root/.cache/pip/wheels/90/d4/f7/9404e5db0116bd4d43e5666eaa3e70ab53723e1e3ea40c9a95\n",
            "Successfully built fire\n",
            "Installing collected packages: fire\n",
            "Successfully installed fire-0.5.0\n"
          ]
        }
      ]
    },
    {
      "cell_type": "code",
      "source": [
        "import xml.etree.ElementTree as ET\n",
        "import os\n",
        "\n",
        "def is_latin_char(character):\n",
        "    return character.isalpha() and ord(character) < 128\n",
        "\n",
        "def is_latin_numeral(character):\n",
        "    return character.isdigit() and ord(character) < 128\n",
        "\n",
        "dataclass = ['train','validation']\n",
        "dicts = {\n",
        "        'B': 'ب',\n",
        "        'P': 'پ',\n",
        "        'T': 'ت',\n",
        "        'Y': 'ث',\n",
        "        'Z': 'ز',\n",
        "        'X': 'ش',\n",
        "        'E': 'ع',\n",
        "        'F': 'ف',\n",
        "        'K': 'ک',\n",
        "        'G': 'گ',\n",
        "        'D': 'D',\n",
        "        'S': 'S',\n",
        "        'J': 'ج',\n",
        "        'W': 'د',\n",
        "        'C': 'س',\n",
        "        'U': 'ص',\n",
        "        'R': 'ط',\n",
        "        'Q': 'ق',\n",
        "        'L': 'ل',\n",
        "        'M': 'م',\n",
        "        'N': 'ن',\n",
        "        'V': 'و',\n",
        "        'H': 'ه',\n",
        "        'I': 'ی',\n",
        "        '0': '۰',\n",
        "        '1': '۱',\n",
        "        '2': '۲',\n",
        "        '3': '۳',\n",
        "        '4': '۴',\n",
        "        '5': '۵',\n",
        "        '6': '۶',\n",
        "        '7': '۷',\n",
        "        '8': '۸',\n",
        "        '9': '۹',\n",
        "\n",
        "}\n",
        "Move = {\n",
        "        'A': 'الف',\n",
        "        '@': 'ویلچر',\n",
        "    }\n",
        "for i in dataclass:\n",
        "    output_file_path = f'gt_{i}.txt'\n",
        "    f = open(output_file_path, 'w')\n",
        "    for file in os.listdir(f'{i}/'):\n",
        "        # print(files)\n",
        "        # for file in files:\n",
        "        error_file = ''\n",
        "        if file.endswith('.xml'):\n",
        "            error_file = file\n",
        "            # Parse the XML file\n",
        "            tree = ET.parse(f'{i}/{file}')\n",
        "            root = tree.getroot()\n",
        "            # Access elements in the XML tree\n",
        "            filename = root.find('filename').text\n",
        "            print(f'Filename: {file}')\n",
        "            name = ''\n",
        "            new_name=''\n",
        "            # Iterate through object elements\n",
        "            for obj in root.findall('object'):\n",
        "                name += obj.find('name').text\n",
        "            # print(name)\n",
        "            for key in Move:\n",
        "                if name.find(Move[key]) != -1:\n",
        "                    new_name=name.replace(Move[key], key)\n",
        "                    name = ''\n",
        "                    name = new_name\n",
        "            new_name=''\n",
        "            for index, v in enumerate(name):\n",
        "                if is_latin_char(v)==False and is_latin_numeral(v) == False:\n",
        "                    for key in dicts:\n",
        "                        if dicts[key] == v:\n",
        "                            new_name=name.replace(name[index], key)\n",
        "                            name = ''\n",
        "                            name = new_name\n",
        "            # try:\n",
        "            for g in name:\n",
        "                if is_latin_char(g)==False and is_latin_numeral(g) == False and g != '@':\n",
        "                    name = name.replace(g, \"\")\n",
        "                # print(is_latin_char(g), is_latin_numeral(g))\n",
        "            filejpg = file.split('.')\n",
        "            filesave = filejpg[0] + \".jpg\"\n",
        "            f.write(f'{filesave}\t{name}\\n')"
      ],
      "metadata": {
        "id": "KmDb3oHbULxM"
      },
      "execution_count": null,
      "outputs": []
    },
    {
      "cell_type": "code",
      "source": [
        "!python3 create_lmdb_dataset.py --inputPath train/ --gtFile gt_train.txt --outputPath result/train"
      ],
      "metadata": {
        "id": "XIQBMXFOxbd9"
      },
      "execution_count": null,
      "outputs": []
    },
    {
      "cell_type": "code",
      "source": [
        "!python3 create_lmdb_dataset.py --inputPath validation/ --gtFile gt_validation.txt --outputPath result/validation"
      ],
      "metadata": {
        "id": "T6kvODuv-Sz3"
      },
      "execution_count": null,
      "outputs": []
    },
    {
      "cell_type": "code",
      "source": [
        "!python3 train.py \\\n",
        "--train_data result/train --valid_data result/validation \\\n",
        "--select_data / --batch_ratio 1 --batch_max_length 8 --valInterval 100 --num_iter 4900 \\\n",
        "--Transformation TPS --FeatureExtraction ResNet --SequenceModeling BiLSTM --Prediction Attn"
      ],
      "metadata": {
        "id": "88BH6lASSvkz"
      },
      "execution_count": null,
      "outputs": []
    },
    {
      "cell_type": "code",
      "source": [
        "!python3 create_lmdb_dataset.py --inputPath test/ --gtFile gt_test.txt --outputPath result/test"
      ],
      "metadata": {
        "id": "DWYsBuIyf3SZ"
      },
      "execution_count": null,
      "outputs": []
    },
    {
      "cell_type": "code",
      "source": [
        "!python3 test.py \\\n",
        "--eval_data result/test \\\n",
        "--saved_model result/TPS-ResNet-BiLSTM-Attn-Seed1111_best_accuracy.pth/best_accuracy.pth \\\n",
        "--Transformation TPS --FeatureExtraction ResNet --SequenceModeling BiLSTM --Prediction Attn"
      ],
      "metadata": {
        "id": "U6-nGIzJ6b-M",
        "colab": {
          "base_uri": "https://localhost:8080/"
        },
        "outputId": "61143dd8-0f4a-423c-aa48-76e54d8bb3c2"
      },
      "execution_count": 9,
      "outputs": [
        {
          "output_type": "stream",
          "name": "stdout",
          "text": [
            "model input parameters 32 100 20 1 512 256 38 25 TPS ResNet BiLSTM Attn\n",
            "loading pretrained model from result/TPS-ResNet-BiLSTM-Attn-Seed1111_best_accuracy.pth/best_accuracy.pth\n",
            "dataset_root:    result/test\t dataset: /\n",
            "sub-directory:\t/.\t num samples: 1433\n",
            "/usr/local/lib/python3.10/dist-packages/torch/utils/data/dataloader.py:557: UserWarning: This DataLoader will create 4 worker processes in total. Our suggested max number of worker in current system is 2, which is smaller than what this DataLoader is going to create. Please be aware that excessive worker creation might get DataLoader running slow or even freeze, lower the worker number to avoid potential slowness/freeze if necessary.\n",
            "  warnings.warn(_create_warning_msg(\n",
            "76.692\n"
          ]
        }
      ]
    },
    {
      "cell_type": "code",
      "source": [
        "!python3 demo.py \\\n",
        "--Transformation TPS --FeatureExtraction ResNet --SequenceModeling BiLSTM --Prediction Attn \\\n",
        "--image_folder test_imag --batch_max_length 8 \\\n",
        "--saved_model result/TPS-ResNet-BiLSTM-Attn-Seed1111_best_accuracy.pth/best_accuracy.pth"
      ],
      "metadata": {
        "id": "z3x8LEykneMZ",
        "colab": {
          "base_uri": "https://localhost:8080/"
        },
        "outputId": "3b1e2964-a80e-4425-b82b-6b0a01ba322b"
      },
      "execution_count": 9,
      "outputs": [
        {
          "output_type": "stream",
          "name": "stdout",
          "text": [
            "model input parameters 32 100 20 1 512 256 38 8 TPS ResNet BiLSTM Attn\n",
            "loading pretrained model from result/TPS-ResNet-BiLSTM-Attn-Seed1111_best_accuracy.pth/best_accuracy.pth\n",
            "/usr/local/lib/python3.10/dist-packages/torch/utils/data/dataloader.py:557: UserWarning: This DataLoader will create 4 worker processes in total. Our suggested max number of worker in current system is 2, which is smaller than what this DataLoader is going to create. Please be aware that excessive worker creation might get DataLoader running slow or even freeze, lower the worker number to avoid potential slowness/freeze if necessary.\n",
            "  warnings.warn(_create_warning_msg(\n",
            "--------------------------------------------------------------------------------\n",
            "image_path               \tpredicted_labels         \tconfidence score\n",
            "--------------------------------------------------------------------------------\n",
            "test_imag/00192.jpg      \t67e7737                  \t0.9347\n",
            "test_imag/01656.jpg      \t97i48912                 \t0.9987\n",
            "test_imag/image2.jpg     \t41c52474                 \t0.9988\n",
            "test_imag/image3.jpg     \t66n74974                 \t0.9963\n",
            "test_imag/image4.jpg     \t66n74974                 \t0.9990\n",
            "test_imag/image5.jpg     \t57j57812                 \t0.9985\n",
            "test_imag/image7.jpg     \t56l53236                 \t0.8732\n",
            "test_imag/image8.jpg     \t56l53236                 \t0.9020\n",
            "test_imag/image9.jpg     \t11l76812                 \t0.9954\n",
            "test_imag/image10.jpg    \t58l94974                 \t0.9906\n",
            "test_imag/image11.jpg    \t57v65574                 \t0.5687\n",
            "test_imag/image12.jpg    \t82n43836                 \t0.9990\n",
            "test_imag/image13.jpg    \t39v71212                 \t0.9977\n",
            "test_imag/image14.jpg    \t38l35912                 \t0.9913\n",
            "test_imag/image15.jpg    \t92j28612                 \t0.9990\n",
            "test_imag/image40.jpg    \t82a21222                 \t0.4243\n",
            "test_imag/lp3.jpg        \t57c82374                 \t0.9955\n",
            "test_imag/lp5.jpg        \t73v96442                 \t0.8017\n"
          ]
        }
      ]
    }
  ]
}