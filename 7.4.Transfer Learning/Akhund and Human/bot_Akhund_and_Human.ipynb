{
  "nbformat": 4,
  "nbformat_minor": 0,
  "metadata": {
    "colab": {
      "provenance": [],
      "gpuType": "T4"
    },
    "kernelspec": {
      "name": "python3",
      "display_name": "Python 3"
    },
    "language_info": {
      "name": "python"
    },
    "accelerator": "GPU"
  },
  "cells": [
    {
      "cell_type": "code",
      "execution_count": null,
      "metadata": {
        "id": "0pef7TMmJRc8"
      },
      "outputs": [],
      "source": [
        "pip install telebot\n"
      ]
    },
    {
      "cell_type": "code",
      "source": [
        "pip install opencv-python"
      ],
      "metadata": {
        "id": "mZQjTH7sKUxy"
      },
      "execution_count": null,
      "outputs": []
    },
    {
      "cell_type": "code",
      "source": [
        "pip install rembg"
      ],
      "metadata": {
        "id": "I0uI0CFBKkJe"
      },
      "execution_count": null,
      "outputs": []
    },
    {
      "cell_type": "code",
      "source": [
        "import os\n",
        "import cv2\n",
        "import numpy as np\n",
        "import tensorflow as tf\n",
        "from telebot import *\n",
        "# from telebot import types\n",
        "\n",
        "bot = telebot.TeleBot(\"Token\")\n",
        "model = tf.keras.models.load_model('/content/drive/MyDrive/17_Flowers.h5')\n",
        "model_Akhund_Human = tf.keras.models.load_model('/content/drive/MyDrive/Data/Akhund_and_Human.h5')\n",
        "\n",
        "flowers_name = ['bluebell', 'buttercup', 'coltsfoot', 'cowslip', 'crocus', 'daffodil','daisy', 'dandelion', 'fritillary', 'iris', 'lilyvalley', 'pansy', 'snowdrop', 'sunflower', 'tigerlily', 'tulip', 'windflower']\n",
        "\n",
        "\n",
        "@bot.message_handler(commands=[\"start\"])\n",
        "def welcom(message):\n",
        "    bot.reply_to(message, f\"✋welcom  to {message.chat.first_name} boot AI \")\n",
        "@bot.message_handler(commands=[\"help\"])\n",
        "def help(message):\n",
        "\tbot.send_message(message.chat.id,\"/gray - Imaeg gray 🌅 \\n/sketch - Photo Sketch 📸\\n/flowers - photo Flower detection🌹🌿\\n/akhund - distinguish mullah and human👳🏻‍♂️👨🏻\")\n",
        "\n",
        "@bot.message_handler(commands=['gray'])\n",
        "def send_pencil_sketch(message):\n",
        "    global bot_state\n",
        "    bot.send_message(message.chat.id, \"Send me an image 🌅\")\n",
        "    bot_state = 'gray'\n",
        "\n",
        "@bot.message_handler(commands=['sketch'])\n",
        "def send_pencil_sketch(message):\n",
        "    global bot_state\n",
        "    bot.send_message(message.chat.id, \"Send me an image 🌅\")\n",
        "    bot_state = 'Sketch'\n",
        "\n",
        "@bot.message_handler(commands=['flowers'])\n",
        "def send_photo(message):\n",
        "    msg = bot.send_message(message.chat.id,\"Send me an image flower🌹\")\n",
        "    bot.register_next_step_handler(msg,photo)\n",
        "\n",
        "@bot.message_handler(commands=['akhund'])\n",
        "def send_photo_akhunb(message):\n",
        "    msg = bot.send_message(message.chat.id,\"Send me an image 👳🏻‍♂️👨🏻\")\n",
        "    bot.register_next_step_handler(msg,recognizer)\n",
        "\n",
        "def save_image(file_info, image_name=None):\n",
        "    downloaded_file = bot.download_file(file_info.file_path)\n",
        "    if image_name:\n",
        "        image_path = os.path.join('photos', image_name + '.jpg')\n",
        "    else:\n",
        "        image_path = os.path.join(file_info.file_path)\n",
        "\n",
        "    with open(image_path, 'wb') as new_file:\n",
        "        new_file.write(downloaded_file)\n",
        "    return image_path\n",
        "\n",
        "@bot.message_handler(content_types=['photo'])\n",
        "def send_photo(message):\n",
        "    global bot_state, content_image_path\n",
        "    file_info = bot.get_file(message.photo[-1].file_id)\n",
        "    if bot_state == 'gray':\n",
        "        image_path = save_image(file_info)\n",
        "        image_result = image_gray(image_path)\n",
        "    elif bot_state == 'Sketch':\n",
        "        image_path = save_image(file_info)\n",
        "        image_result = Sketch(image_path)\n",
        "\n",
        "    image_path = os.path.join( file_info.file_path)\n",
        "    cv2.imwrite(image_path, image_result)\n",
        "\n",
        "    photo = open(image_path, \"rb\")\n",
        "    bot.send_photo(message.chat.id, photo)\n",
        "\n",
        "def image_gray(image_path):\n",
        "    image = cv2.imread(image_path)\n",
        "    image_result = cv2.cvtColor(image, cv2.COLOR_BGR2GRAY)\n",
        "    return image_result\n",
        "def dodge(x, y):\n",
        "    return cv2.divide(x, 255 - y, scale=256)\n",
        "\n",
        "def burn(image, mask):\n",
        "    return 255 - cv2.divide(255 - image, 255 - mask, scale=256)\n",
        "\n",
        "def Sketch(image_path):\n",
        "    image = cv2.imread(image_path)\n",
        "    image_gray = cv2.cvtColor(image, cv2.COLOR_BGR2GRAY)\n",
        "    image_gray_inv = 255 - image_gray\n",
        "    image_gray_inv_blur = cv2.GaussianBlur(image_gray_inv, (21, 21), sigmaX=0, sigmaY=0)\n",
        "    image_dodged = dodge(image_gray, image_gray_inv_blur)\n",
        "    image_result = burn(image_dodged, image_gray_inv_blur)\n",
        "    return image_result\n",
        "\n",
        "\n",
        "\n",
        "@bot.message_handler(content_types = [\"flowers\"])\n",
        "def photo(message):\n",
        "    fileID = message.photo[-1].file_id\n",
        "    file_info = bot.get_file(fileID)\n",
        "    downloaded_file = bot.download_file(file_info.file_path)\n",
        "\n",
        "    with open(\"Flowers.jpg\", 'wb') as new_file:\n",
        "        new_file.write(downloaded_file)\n",
        "\n",
        "    img = cv2.imread(\"Flowers.jpg\")\n",
        "    image = cv2.cvtColor(img,cv2.COLOR_BGR2RGB)\n",
        "    img = cv2.resize(image ,(224,224))\n",
        "    img = img / 255\n",
        "    img = img.reshape(1,224,224,3)\n",
        "    result = np.argmax(model.predict(img))\n",
        "    print(result)\n",
        "    print(flowers_name[result])\n",
        "\n",
        "    bot.send_message(message.chat.id,f' I feel your name is flowers {flowers_name[result]} ☘️🪴 .')\n",
        "\n",
        "\n",
        "def recognizer(message):\n",
        "    fileID = message.photo[-1].file_id\n",
        "    file_info = bot.get_file(fileID)\n",
        "    downloaded_file = bot.download_file(file_info.file_path)\n",
        "    width = height = 224\n",
        "\n",
        "\n",
        "    with open(\"image.jpg\", 'wb') as new_file:\n",
        "        new_file.write(downloaded_file)\n",
        "\n",
        "    img = cv2.imread(\"image.jpg\")\n",
        "    image = cv2.cvtColor(img,cv2.COLOR_BGR2RGB)\n",
        "    img = cv2.resize(image ,(width,height))\n",
        "    img = img / 255\n",
        "    img = img.reshape(1,width,height,3)\n",
        "\n",
        "    result = np.argmax(model_Akhund_Human.predict(img))\n",
        "    print(result)\n",
        "\n",
        "    if result == 0:\n",
        "        bot.send_message(message.chat.id,'از ما نیست👳🏻‍♂️')\n",
        "\n",
        "    elif result == 1:\n",
        "        bot.send_message(message.chat.id,'از ماست 👨🏻👩🏻')\n",
        "\n",
        "\n",
        "\n",
        "bot.infinity_polling()\n",
        "\n"
      ],
      "metadata": {
        "colab": {
          "base_uri": "https://localhost:8080/"
        },
        "id": "1tuiH_f6Jge4",
        "outputId": "e310df17-0e72-42f8-a4e1-4648b588ec33"
      },
      "execution_count": 23,
      "outputs": [
        {
          "output_type": "stream",
          "name": "stdout",
          "text": [
            "1/1 [==============================] - 1s 1s/step\n",
            "1\n",
            "1/1 [==============================] - 0s 28ms/step\n",
            "0\n"
          ]
        },
        {
          "output_type": "stream",
          "name": "stderr",
          "text": [
            "2023-10-30 19:47:58,624 (__init__.py:966 MainThread) ERROR - TeleBot: \"Infinity polling: polling exited\"\n",
            "ERROR:TeleBot:Infinity polling: polling exited\n",
            "2023-10-30 19:47:58,628 (__init__.py:968 MainThread) ERROR - TeleBot: \"Break infinity polling\"\n",
            "ERROR:TeleBot:Break infinity polling\n"
          ]
        }
      ]
    },
    {
      "cell_type": "code",
      "source": [],
      "metadata": {
        "id": "KbrPgPXL8AOZ"
      },
      "execution_count": null,
      "outputs": []
    }
  ]
}