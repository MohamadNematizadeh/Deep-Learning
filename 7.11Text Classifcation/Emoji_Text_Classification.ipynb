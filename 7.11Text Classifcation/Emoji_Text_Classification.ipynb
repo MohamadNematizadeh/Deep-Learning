{
  "nbformat": 4,
  "nbformat_minor": 0,
  "metadata": {
    "colab": {
      "provenance": [],
      "gpuType": "T4"
    },
    "kernelspec": {
      "name": "python3",
      "display_name": "Python 3"
    },
    "language_info": {
      "name": "python"
    },
    "accelerator": "GPU"
  },
  "cells": [
    {
      "cell_type": "code",
      "execution_count": 1,
      "metadata": {
        "id": "wJkD9puRYNlI"
      },
      "outputs": [],
      "source": [
        "import tensorflow as tf\n",
        "import numpy as np\n",
        "import pandas as pd"
      ]
    },
    {
      "cell_type": "code",
      "source": [
        "def read_csv(file_path):\n",
        "  df = pd.read_csv(file_path)\n",
        "  X = np.array(df[\"sentence\"])\n",
        "  Y = np.array(df[\"label\"])\n",
        "  return X,Y"
      ],
      "metadata": {
        "id": "nLyTUvfNh5IR"
      },
      "execution_count": 2,
      "outputs": []
    },
    {
      "cell_type": "code",
      "source": [
        "X_train , Y_train = read_csv(\"/content/dataset_Emoji_Text_Classification/train.csv\")\n",
        "X_test , Y_test = read_csv(\"/content/dataset_Emoji_Text_Classification/test.csv\")\n"
      ],
      "metadata": {
        "id": "bhM135zwjBeG"
      },
      "execution_count": 3,
      "outputs": []
    },
    {
      "cell_type": "code",
      "source": [
        "index = 7\n",
        "X_train[index], Y_train[index]"
      ],
      "metadata": {
        "colab": {
          "base_uri": "https://localhost:8080/"
        },
        "id": "fh5p0fzQjh5Z",
        "outputId": "0816cbc5-747f-4865-9b2e-48bd38f91cff"
      },
      "execution_count": 9,
      "outputs": [
        {
          "output_type": "execute_result",
          "data": {
            "text/plain": [
              "('congratulations on your acceptance', 2)"
            ]
          },
          "metadata": {},
          "execution_count": 9
        }
      ]
    },
    {
      "cell_type": "code",
      "source": [
        "def label_to_emoji(label):\n",
        "    emojies = [\"❤️\", \"🏐\", \"😄\", \"😞\", \"🍴\"]\n",
        "    return emojies[label]\n",
        "\n",
        "index = 7\n",
        "print(X_train[index], label_to_emoji(Y_train[index]))"
      ],
      "metadata": {
        "colab": {
          "base_uri": "https://localhost:8080/"
        },
        "id": "VIczpjgRjsga",
        "outputId": "28053b82-9a61-4168-c6f8-ed183b383748"
      },
      "execution_count": 13,
      "outputs": [
        {
          "output_type": "stream",
          "name": "stdout",
          "text": [
            "congratulations on your acceptance 😄\n"
          ]
        }
      ]
    },
    {
      "cell_type": "code",
      "source": [
        "len(np.unique(Y_train))"
      ],
      "metadata": {
        "id": "VHjmGKPAk6nE"
      },
      "execution_count": null,
      "outputs": []
    },
    {
      "cell_type": "code",
      "source": [
        "unique,counts = np.unique(Y_train, return_counts=True)\n",
        "print(unique)\n",
        "print(counts)"
      ],
      "metadata": {
        "colab": {
          "base_uri": "https://localhost:8080/"
        },
        "id": "hM9h2bCDlKTD",
        "outputId": "cca4f4ec-5188-4910-be5e-e22fe59e203b"
      },
      "execution_count": 11,
      "outputs": [
        {
          "output_type": "stream",
          "name": "stdout",
          "text": [
            "[0 1 2 3 4]\n",
            "[22 19 38 36 17]\n"
          ]
        }
      ]
    },
    {
      "cell_type": "code",
      "source": [
        "max_len = len(max(X_train , key=len).split(\" \"))\n",
        "print(max_len)"
      ],
      "metadata": {
        "id": "9GnGSmXylm2x"
      },
      "execution_count": null,
      "outputs": []
    },
    {
      "cell_type": "code",
      "source": [
        "!wget https://nlp.stanford.edu/data/glove.6B.zip\n",
        "!unzip -q glove.6B.zip -d /content/drive/MyDrive/dataset/glov.6b"
      ],
      "metadata": {
        "id": "-fbSYNcMmJjm"
      },
      "execution_count": null,
      "outputs": []
    },
    {
      "cell_type": "code",
      "source": [
        " f = open(\"/content/drive/MyDrive/dataset/glov.6b/glove.6B.50d.txt\", encoding=\"utf_8\")"
      ],
      "metadata": {
        "id": "TntrcFxOsKhZ"
      },
      "execution_count": 49,
      "outputs": []
    },
    {
      "cell_type": "code",
      "source": [
        "word_vectoros = {}\n",
        "for line in f:\n",
        "  line = line.strip().split()\n",
        "  word = line[0]\n",
        "  vector= np.array(line [1:], dtype=np.float64)\n",
        "  word_vectoros[word] = vector"
      ],
      "metadata": {
        "id": "4u0KiXgYvS5f"
      },
      "execution_count": 50,
      "outputs": []
    },
    {
      "cell_type": "code",
      "source": [
        "word_vectoros[\"programming\"]"
      ],
      "metadata": {
        "colab": {
          "base_uri": "https://localhost:8080/"
        },
        "id": "lxmqATgGxQ8m",
        "outputId": "44ced794-98e0-4a9a-b896-584ac3448a2c"
      },
      "execution_count": 51,
      "outputs": [
        {
          "output_type": "execute_result",
          "data": {
            "text/plain": [
              "array([ 0.14957 , -0.16036 , -0.1369  ,  1.0076  , -0.37291 ,  0.63466 ,\n",
              "       -0.93203 , -1.5188  , -0.24924 ,  0.67075 ,  0.51193 ,  0.28389 ,\n",
              "        0.18781 ,  0.8798  , -0.023971,  0.39789 , -0.72769 ,  1.0153  ,\n",
              "        0.11723 , -0.14114 ,  0.974   ,  0.48037 ,  0.25464 ,  1.3262  ,\n",
              "        0.17958 ,  0.19717 ,  0.074712, -0.24844 ,  0.26248 , -0.084427,\n",
              "        3.156   ,  0.38308 , -0.095827, -0.99383 , -0.20497 ,  0.38918 ,\n",
              "       -0.13281 , -0.21775 , -0.93632 ,  0.37943 ,  0.78475 ,  0.36969 ,\n",
              "       -1.3904  ,  0.54891 , -1.3798  ,  0.18898 ,  0.60928 ,  0.98271 ,\n",
              "       -0.53934 ,  1.4439  ])"
            ]
          },
          "metadata": {},
          "execution_count": 51
        }
      ]
    },
    {
      "cell_type": "code",
      "source": [
        "def senteence_to_avg(sentence):\n",
        "  try:\n",
        "    sentence = sentence.lower()# uper\n",
        "    words = sentence.strip().split(\" \")\n",
        "    sum_vectors = np.zeros((50, ))\n",
        "    for word in words :\n",
        "      sum_vectors += word_vectoros[word]\n",
        "\n",
        "\n",
        "    avg_vectors = sum_vectors / len(words)\n",
        "    return avg_vectors\n",
        "  except:\n",
        "    print(sentence)\n",
        "    return None"
      ],
      "metadata": {
        "id": "lCsHLzGFyINN"
      },
      "execution_count": 62,
      "outputs": []
    },
    {
      "cell_type": "code",
      "source": [
        "senteence_to_avg(\"i love programming\")"
      ],
      "metadata": {
        "colab": {
          "base_uri": "https://localhost:8080/"
        },
        "id": "bgeMW7181h5i",
        "outputId": "9a4e54f8-ffee-419d-96e2-0a3a2537fe0e"
      },
      "execution_count": 63,
      "outputs": [
        {
          "output_type": "execute_result",
          "data": {
            "text/plain": [
              "array([ 0.04320667,  0.37743   , -0.357031  , -0.00865333,  0.38053333,\n",
              "        0.32633333, -0.52007333, -0.3322732 , -0.52798   ,  0.58148919,\n",
              "        0.03828333,  0.69974667, -0.48341333,  0.09162733,  0.708883  ,\n",
              "        0.22826333, -0.12114   ,  0.59850333,  0.02376167, -0.31820967,\n",
              "        0.02860333,  0.86243333,  0.55779667,  0.68638667,  0.93642667,\n",
              "       -1.27037667, -0.85302933,  0.01946667,  0.77329333, -0.735489  ,\n",
              "        3.1286    ,  0.58391   , -0.37328233, -0.15569   , -0.26527   ,\n",
              "       -0.05288667,  0.04671   ,  0.02445333, -0.19468333, -0.19417333,\n",
              "        0.28425557,  0.05271067, -0.61895333,  0.31371333, -0.36647133,\n",
              "        0.19412333,  0.163318  , -0.32117   , -0.36403667,  0.88497   ])"
            ]
          },
          "metadata": {},
          "execution_count": 63
        }
      ]
    },
    {
      "cell_type": "code",
      "source": [
        "#X_trin_avg =[]\n",
        "#for x_train in X_train :\n",
        "#  X_trin_avg.append(senteence_to_avg(x_train))\n",
        "#X_trin_avg = np.array(X_trin_avg)\n",
        "\n",
        "#X_trin_avg.shape\n",
        "\n",
        "\n",
        "X_train_avg = []\n",
        "for x_train in X_train:\n",
        "  X_train_avg.append(senteence_to_avg(x_train))\n",
        "\n",
        "X_train_avg = np.array(X_train_avg)\n",
        "\n",
        "X_train_avg.shape\n"
      ],
      "metadata": {
        "colab": {
          "base_uri": "https://localhost:8080/"
        },
        "id": "UBTfA2ZM1pc3",
        "outputId": "8ed8ef46-16a0-40ba-89cb-75da26a418a3"
      },
      "execution_count": 64,
      "outputs": [
        {
          "output_type": "execute_result",
          "data": {
            "text/plain": [
              "(132, 50)"
            ]
          },
          "metadata": {},
          "execution_count": 64
        }
      ]
    },
    {
      "cell_type": "code",
      "source": [
        "Y_train_on_hot = tf.keras.utils.to_categorical(Y_train,num_classes=5)\n",
        "Y_train_on_hot"
      ],
      "metadata": {
        "id": "XYz36RzI4arC"
      },
      "execution_count": null,
      "outputs": []
    },
    {
      "cell_type": "code",
      "source": [
        "model = tf.keras.models.Sequential([\n",
        "    tf.keras.layers.Dense(5, input_shape=(50,),activation='softmax')\n",
        "\n",
        "])"
      ],
      "metadata": {
        "id": "urv1byLK5TVu"
      },
      "execution_count": 67,
      "outputs": []
    },
    {
      "cell_type": "code",
      "source": [
        "model.compile(\n",
        "    optimizer=tf.keras.optimizers.Adam(),\n",
        "    loss='categorical_crossentropy',\n",
        "    metrics=['accuracy']\n",
        ")"
      ],
      "metadata": {
        "id": "25HOa_btHWdg"
      },
      "execution_count": 68,
      "outputs": []
    },
    {
      "cell_type": "code",
      "source": [
        "model.fit(X_train_avg , Y_train_on_hot,epochs=200)"
      ],
      "metadata": {
        "colab": {
          "base_uri": "https://localhost:8080/"
        },
        "id": "PWHG644D5z2I",
        "outputId": "febfafe1-d582-4c6f-e21b-aed6c0092d47"
      },
      "execution_count": 69,
      "outputs": [
        {
          "output_type": "stream",
          "name": "stdout",
          "text": [
            "Epoch 1/200\n",
            "5/5 [==============================] - 1s 11ms/step - loss: 1.9217 - accuracy: 0.1288\n",
            "Epoch 2/200\n",
            "5/5 [==============================] - 0s 4ms/step - loss: 1.8814 - accuracy: 0.1515\n",
            "Epoch 3/200\n",
            "5/5 [==============================] - 0s 6ms/step - loss: 1.8478 - accuracy: 0.1591\n",
            "Epoch 4/200\n",
            "5/5 [==============================] - 0s 3ms/step - loss: 1.8153 - accuracy: 0.1591\n",
            "Epoch 5/200\n",
            "5/5 [==============================] - 0s 3ms/step - loss: 1.7866 - accuracy: 0.1515\n",
            "Epoch 6/200\n",
            "5/5 [==============================] - 0s 3ms/step - loss: 1.7619 - accuracy: 0.1667\n",
            "Epoch 7/200\n",
            "5/5 [==============================] - 0s 3ms/step - loss: 1.7380 - accuracy: 0.1742\n",
            "Epoch 8/200\n",
            "5/5 [==============================] - 0s 3ms/step - loss: 1.7162 - accuracy: 0.1742\n",
            "Epoch 9/200\n",
            "5/5 [==============================] - 0s 3ms/step - loss: 1.6946 - accuracy: 0.1742\n",
            "Epoch 10/200\n",
            "5/5 [==============================] - 0s 4ms/step - loss: 1.6758 - accuracy: 0.2197\n",
            "Epoch 11/200\n",
            "5/5 [==============================] - 0s 6ms/step - loss: 1.6594 - accuracy: 0.2273\n",
            "Epoch 12/200\n",
            "5/5 [==============================] - 0s 3ms/step - loss: 1.6448 - accuracy: 0.2348\n",
            "Epoch 13/200\n",
            "5/5 [==============================] - 0s 4ms/step - loss: 1.6296 - accuracy: 0.2348\n",
            "Epoch 14/200\n",
            "5/5 [==============================] - 0s 3ms/step - loss: 1.6164 - accuracy: 0.2500\n",
            "Epoch 15/200\n",
            "5/5 [==============================] - 0s 3ms/step - loss: 1.6028 - accuracy: 0.2576\n",
            "Epoch 16/200\n",
            "5/5 [==============================] - 0s 3ms/step - loss: 1.5894 - accuracy: 0.2727\n",
            "Epoch 17/200\n",
            "5/5 [==============================] - 0s 3ms/step - loss: 1.5771 - accuracy: 0.2803\n",
            "Epoch 18/200\n",
            "5/5 [==============================] - 0s 3ms/step - loss: 1.5647 - accuracy: 0.2652\n",
            "Epoch 19/200\n",
            "5/5 [==============================] - 0s 3ms/step - loss: 1.5523 - accuracy: 0.2727\n",
            "Epoch 20/200\n",
            "5/5 [==============================] - 0s 3ms/step - loss: 1.5411 - accuracy: 0.2727\n",
            "Epoch 21/200\n",
            "5/5 [==============================] - 0s 3ms/step - loss: 1.5288 - accuracy: 0.2803\n",
            "Epoch 22/200\n",
            "5/5 [==============================] - 0s 3ms/step - loss: 1.5178 - accuracy: 0.2879\n",
            "Epoch 23/200\n",
            "5/5 [==============================] - 0s 3ms/step - loss: 1.5066 - accuracy: 0.2955\n",
            "Epoch 24/200\n",
            "5/5 [==============================] - 0s 3ms/step - loss: 1.4974 - accuracy: 0.3106\n",
            "Epoch 25/200\n",
            "5/5 [==============================] - 0s 3ms/step - loss: 1.4871 - accuracy: 0.3106\n",
            "Epoch 26/200\n",
            "5/5 [==============================] - 0s 3ms/step - loss: 1.4771 - accuracy: 0.3333\n",
            "Epoch 27/200\n",
            "5/5 [==============================] - 0s 3ms/step - loss: 1.4686 - accuracy: 0.3182\n",
            "Epoch 28/200\n",
            "5/5 [==============================] - 0s 3ms/step - loss: 1.4596 - accuracy: 0.3258\n",
            "Epoch 29/200\n",
            "5/5 [==============================] - 0s 3ms/step - loss: 1.4511 - accuracy: 0.3258\n",
            "Epoch 30/200\n",
            "5/5 [==============================] - 0s 3ms/step - loss: 1.4421 - accuracy: 0.3409\n",
            "Epoch 31/200\n",
            "5/5 [==============================] - 0s 4ms/step - loss: 1.4330 - accuracy: 0.3485\n",
            "Epoch 32/200\n",
            "5/5 [==============================] - 0s 3ms/step - loss: 1.4239 - accuracy: 0.3485\n",
            "Epoch 33/200\n",
            "5/5 [==============================] - 0s 3ms/step - loss: 1.4161 - accuracy: 0.3485\n",
            "Epoch 34/200\n",
            "5/5 [==============================] - 0s 3ms/step - loss: 1.4076 - accuracy: 0.3561\n",
            "Epoch 35/200\n",
            "5/5 [==============================] - 0s 3ms/step - loss: 1.3996 - accuracy: 0.3636\n",
            "Epoch 36/200\n",
            "5/5 [==============================] - 0s 3ms/step - loss: 1.3913 - accuracy: 0.3788\n",
            "Epoch 37/200\n",
            "5/5 [==============================] - 0s 3ms/step - loss: 1.3834 - accuracy: 0.3788\n",
            "Epoch 38/200\n",
            "5/5 [==============================] - 0s 3ms/step - loss: 1.3760 - accuracy: 0.3864\n",
            "Epoch 39/200\n",
            "5/5 [==============================] - 0s 3ms/step - loss: 1.3685 - accuracy: 0.4091\n",
            "Epoch 40/200\n",
            "5/5 [==============================] - 0s 3ms/step - loss: 1.3613 - accuracy: 0.4015\n",
            "Epoch 41/200\n",
            "5/5 [==============================] - 0s 4ms/step - loss: 1.3540 - accuracy: 0.4091\n",
            "Epoch 42/200\n",
            "5/5 [==============================] - 0s 3ms/step - loss: 1.3476 - accuracy: 0.4091\n",
            "Epoch 43/200\n",
            "5/5 [==============================] - 0s 3ms/step - loss: 1.3408 - accuracy: 0.4091\n",
            "Epoch 44/200\n",
            "5/5 [==============================] - 0s 3ms/step - loss: 1.3334 - accuracy: 0.4167\n",
            "Epoch 45/200\n",
            "5/5 [==============================] - 0s 3ms/step - loss: 1.3275 - accuracy: 0.4318\n",
            "Epoch 46/200\n",
            "5/5 [==============================] - 0s 3ms/step - loss: 1.3213 - accuracy: 0.4318\n",
            "Epoch 47/200\n",
            "5/5 [==============================] - 0s 3ms/step - loss: 1.3149 - accuracy: 0.4470\n",
            "Epoch 48/200\n",
            "5/5 [==============================] - 0s 3ms/step - loss: 1.3082 - accuracy: 0.4470\n",
            "Epoch 49/200\n",
            "5/5 [==============================] - 0s 3ms/step - loss: 1.3020 - accuracy: 0.4545\n",
            "Epoch 50/200\n",
            "5/5 [==============================] - 0s 4ms/step - loss: 1.2945 - accuracy: 0.4621\n",
            "Epoch 51/200\n",
            "5/5 [==============================] - 0s 3ms/step - loss: 1.2873 - accuracy: 0.4773\n",
            "Epoch 52/200\n",
            "5/5 [==============================] - 0s 3ms/step - loss: 1.2803 - accuracy: 0.4848\n",
            "Epoch 53/200\n",
            "5/5 [==============================] - 0s 3ms/step - loss: 1.2736 - accuracy: 0.4848\n",
            "Epoch 54/200\n",
            "5/5 [==============================] - 0s 3ms/step - loss: 1.2675 - accuracy: 0.4773\n",
            "Epoch 55/200\n",
            "5/5 [==============================] - 0s 3ms/step - loss: 1.2613 - accuracy: 0.4848\n",
            "Epoch 56/200\n",
            "5/5 [==============================] - 0s 3ms/step - loss: 1.2562 - accuracy: 0.4924\n",
            "Epoch 57/200\n",
            "5/5 [==============================] - 0s 5ms/step - loss: 1.2505 - accuracy: 0.5000\n",
            "Epoch 58/200\n",
            "5/5 [==============================] - 0s 4ms/step - loss: 1.2444 - accuracy: 0.5076\n",
            "Epoch 59/200\n",
            "5/5 [==============================] - 0s 4ms/step - loss: 1.2388 - accuracy: 0.5076\n",
            "Epoch 60/200\n",
            "5/5 [==============================] - 0s 4ms/step - loss: 1.2338 - accuracy: 0.5076\n",
            "Epoch 61/200\n",
            "5/5 [==============================] - 0s 4ms/step - loss: 1.2280 - accuracy: 0.5076\n",
            "Epoch 62/200\n",
            "5/5 [==============================] - 0s 4ms/step - loss: 1.2204 - accuracy: 0.5303\n",
            "Epoch 63/200\n",
            "5/5 [==============================] - 0s 4ms/step - loss: 1.2145 - accuracy: 0.5303\n",
            "Epoch 64/200\n",
            "5/5 [==============================] - 0s 4ms/step - loss: 1.2085 - accuracy: 0.5303\n",
            "Epoch 65/200\n",
            "5/5 [==============================] - 0s 4ms/step - loss: 1.2028 - accuracy: 0.5227\n",
            "Epoch 66/200\n",
            "5/5 [==============================] - 0s 3ms/step - loss: 1.1972 - accuracy: 0.5530\n",
            "Epoch 67/200\n",
            "5/5 [==============================] - 0s 3ms/step - loss: 1.1917 - accuracy: 0.5530\n",
            "Epoch 68/200\n",
            "5/5 [==============================] - 0s 3ms/step - loss: 1.1865 - accuracy: 0.5606\n",
            "Epoch 69/200\n",
            "5/5 [==============================] - 0s 3ms/step - loss: 1.1813 - accuracy: 0.5606\n",
            "Epoch 70/200\n",
            "5/5 [==============================] - 0s 3ms/step - loss: 1.1759 - accuracy: 0.5682\n",
            "Epoch 71/200\n",
            "5/5 [==============================] - 0s 3ms/step - loss: 1.1710 - accuracy: 0.5833\n",
            "Epoch 72/200\n",
            "5/5 [==============================] - 0s 3ms/step - loss: 1.1660 - accuracy: 0.5833\n",
            "Epoch 73/200\n",
            "5/5 [==============================] - 0s 3ms/step - loss: 1.1608 - accuracy: 0.5833\n",
            "Epoch 74/200\n",
            "5/5 [==============================] - 0s 3ms/step - loss: 1.1559 - accuracy: 0.5833\n",
            "Epoch 75/200\n",
            "5/5 [==============================] - 0s 3ms/step - loss: 1.1506 - accuracy: 0.5909\n",
            "Epoch 76/200\n",
            "5/5 [==============================] - 0s 3ms/step - loss: 1.1455 - accuracy: 0.5985\n",
            "Epoch 77/200\n",
            "5/5 [==============================] - 0s 3ms/step - loss: 1.1407 - accuracy: 0.6061\n",
            "Epoch 78/200\n",
            "5/5 [==============================] - 0s 3ms/step - loss: 1.1360 - accuracy: 0.6061\n",
            "Epoch 79/200\n",
            "5/5 [==============================] - 0s 3ms/step - loss: 1.1311 - accuracy: 0.6212\n",
            "Epoch 80/200\n",
            "5/5 [==============================] - 0s 4ms/step - loss: 1.1265 - accuracy: 0.6136\n",
            "Epoch 81/200\n",
            "5/5 [==============================] - 0s 3ms/step - loss: 1.1221 - accuracy: 0.6212\n",
            "Epoch 82/200\n",
            "5/5 [==============================] - 0s 3ms/step - loss: 1.1172 - accuracy: 0.6288\n",
            "Epoch 83/200\n",
            "5/5 [==============================] - 0s 4ms/step - loss: 1.1123 - accuracy: 0.6288\n",
            "Epoch 84/200\n",
            "5/5 [==============================] - 0s 3ms/step - loss: 1.1074 - accuracy: 0.6288\n",
            "Epoch 85/200\n",
            "5/5 [==============================] - 0s 3ms/step - loss: 1.1028 - accuracy: 0.6288\n",
            "Epoch 86/200\n",
            "5/5 [==============================] - 0s 3ms/step - loss: 1.0985 - accuracy: 0.6288\n",
            "Epoch 87/200\n",
            "5/5 [==============================] - 0s 3ms/step - loss: 1.0939 - accuracy: 0.6364\n",
            "Epoch 88/200\n",
            "5/5 [==============================] - 0s 3ms/step - loss: 1.0897 - accuracy: 0.6439\n",
            "Epoch 89/200\n",
            "5/5 [==============================] - 0s 4ms/step - loss: 1.0853 - accuracy: 0.6439\n",
            "Epoch 90/200\n",
            "5/5 [==============================] - 0s 4ms/step - loss: 1.0813 - accuracy: 0.6515\n",
            "Epoch 91/200\n",
            "5/5 [==============================] - 0s 5ms/step - loss: 1.0769 - accuracy: 0.6515\n",
            "Epoch 92/200\n",
            "5/5 [==============================] - 0s 3ms/step - loss: 1.0727 - accuracy: 0.6591\n",
            "Epoch 93/200\n",
            "5/5 [==============================] - 0s 3ms/step - loss: 1.0690 - accuracy: 0.6591\n",
            "Epoch 94/200\n",
            "5/5 [==============================] - 0s 3ms/step - loss: 1.0643 - accuracy: 0.6591\n",
            "Epoch 95/200\n",
            "5/5 [==============================] - 0s 3ms/step - loss: 1.0603 - accuracy: 0.6591\n",
            "Epoch 96/200\n",
            "5/5 [==============================] - 0s 3ms/step - loss: 1.0562 - accuracy: 0.6591\n",
            "Epoch 97/200\n",
            "5/5 [==============================] - 0s 3ms/step - loss: 1.0531 - accuracy: 0.6667\n",
            "Epoch 98/200\n",
            "5/5 [==============================] - 0s 4ms/step - loss: 1.0488 - accuracy: 0.6667\n",
            "Epoch 99/200\n",
            "5/5 [==============================] - 0s 4ms/step - loss: 1.0455 - accuracy: 0.6742\n",
            "Epoch 100/200\n",
            "5/5 [==============================] - 0s 4ms/step - loss: 1.0417 - accuracy: 0.6818\n",
            "Epoch 101/200\n",
            "5/5 [==============================] - 0s 5ms/step - loss: 1.0378 - accuracy: 0.6894\n",
            "Epoch 102/200\n",
            "5/5 [==============================] - 0s 4ms/step - loss: 1.0343 - accuracy: 0.6818\n",
            "Epoch 103/200\n",
            "5/5 [==============================] - 0s 4ms/step - loss: 1.0300 - accuracy: 0.6818\n",
            "Epoch 104/200\n",
            "5/5 [==============================] - 0s 3ms/step - loss: 1.0265 - accuracy: 0.6818\n",
            "Epoch 105/200\n",
            "5/5 [==============================] - 0s 4ms/step - loss: 1.0228 - accuracy: 0.6894\n",
            "Epoch 106/200\n",
            "5/5 [==============================] - 0s 3ms/step - loss: 1.0197 - accuracy: 0.6970\n",
            "Epoch 107/200\n",
            "5/5 [==============================] - 0s 4ms/step - loss: 1.0163 - accuracy: 0.6894\n",
            "Epoch 108/200\n",
            "5/5 [==============================] - 0s 3ms/step - loss: 1.0130 - accuracy: 0.6894\n",
            "Epoch 109/200\n",
            "5/5 [==============================] - 0s 3ms/step - loss: 1.0096 - accuracy: 0.6818\n",
            "Epoch 110/200\n",
            "5/5 [==============================] - 0s 3ms/step - loss: 1.0056 - accuracy: 0.6970\n",
            "Epoch 111/200\n",
            "5/5 [==============================] - 0s 3ms/step - loss: 1.0022 - accuracy: 0.7045\n",
            "Epoch 112/200\n",
            "5/5 [==============================] - 0s 3ms/step - loss: 0.9987 - accuracy: 0.7045\n",
            "Epoch 113/200\n",
            "5/5 [==============================] - 0s 3ms/step - loss: 0.9956 - accuracy: 0.7045\n",
            "Epoch 114/200\n",
            "5/5 [==============================] - 0s 3ms/step - loss: 0.9922 - accuracy: 0.7045\n",
            "Epoch 115/200\n",
            "5/5 [==============================] - 0s 4ms/step - loss: 0.9887 - accuracy: 0.7045\n",
            "Epoch 116/200\n",
            "5/5 [==============================] - 0s 3ms/step - loss: 0.9862 - accuracy: 0.7197\n",
            "Epoch 117/200\n",
            "5/5 [==============================] - 0s 3ms/step - loss: 0.9824 - accuracy: 0.7045\n",
            "Epoch 118/200\n",
            "5/5 [==============================] - 0s 3ms/step - loss: 0.9800 - accuracy: 0.7045\n",
            "Epoch 119/200\n",
            "5/5 [==============================] - 0s 3ms/step - loss: 0.9774 - accuracy: 0.6894\n",
            "Epoch 120/200\n",
            "5/5 [==============================] - 0s 4ms/step - loss: 0.9758 - accuracy: 0.6742\n",
            "Epoch 121/200\n",
            "5/5 [==============================] - 0s 3ms/step - loss: 0.9724 - accuracy: 0.6742\n",
            "Epoch 122/200\n",
            "5/5 [==============================] - 0s 3ms/step - loss: 0.9691 - accuracy: 0.6894\n",
            "Epoch 123/200\n",
            "5/5 [==============================] - 0s 4ms/step - loss: 0.9655 - accuracy: 0.6894\n",
            "Epoch 124/200\n",
            "5/5 [==============================] - 0s 3ms/step - loss: 0.9623 - accuracy: 0.7121\n",
            "Epoch 125/200\n",
            "5/5 [==============================] - 0s 3ms/step - loss: 0.9596 - accuracy: 0.7121\n",
            "Epoch 126/200\n",
            "5/5 [==============================] - 0s 3ms/step - loss: 0.9566 - accuracy: 0.7197\n",
            "Epoch 127/200\n",
            "5/5 [==============================] - 0s 3ms/step - loss: 0.9534 - accuracy: 0.7121\n",
            "Epoch 128/200\n",
            "5/5 [==============================] - 0s 3ms/step - loss: 0.9504 - accuracy: 0.7121\n",
            "Epoch 129/200\n",
            "5/5 [==============================] - 0s 3ms/step - loss: 0.9473 - accuracy: 0.7197\n",
            "Epoch 130/200\n",
            "5/5 [==============================] - 0s 3ms/step - loss: 0.9449 - accuracy: 0.7197\n",
            "Epoch 131/200\n",
            "5/5 [==============================] - 0s 3ms/step - loss: 0.9423 - accuracy: 0.7197\n",
            "Epoch 132/200\n",
            "5/5 [==============================] - 0s 4ms/step - loss: 0.9394 - accuracy: 0.7197\n",
            "Epoch 133/200\n",
            "5/5 [==============================] - 0s 3ms/step - loss: 0.9367 - accuracy: 0.7197\n",
            "Epoch 134/200\n",
            "5/5 [==============================] - 0s 3ms/step - loss: 0.9337 - accuracy: 0.7273\n",
            "Epoch 135/200\n",
            "5/5 [==============================] - 0s 3ms/step - loss: 0.9313 - accuracy: 0.7197\n",
            "Epoch 136/200\n",
            "5/5 [==============================] - 0s 3ms/step - loss: 0.9285 - accuracy: 0.7197\n",
            "Epoch 137/200\n",
            "5/5 [==============================] - 0s 3ms/step - loss: 0.9259 - accuracy: 0.7197\n",
            "Epoch 138/200\n",
            "5/5 [==============================] - 0s 4ms/step - loss: 0.9233 - accuracy: 0.7197\n",
            "Epoch 139/200\n",
            "5/5 [==============================] - 0s 3ms/step - loss: 0.9210 - accuracy: 0.7273\n",
            "Epoch 140/200\n",
            "5/5 [==============================] - 0s 3ms/step - loss: 0.9186 - accuracy: 0.7273\n",
            "Epoch 141/200\n",
            "5/5 [==============================] - 0s 3ms/step - loss: 0.9157 - accuracy: 0.7273\n",
            "Epoch 142/200\n",
            "5/5 [==============================] - 0s 3ms/step - loss: 0.9132 - accuracy: 0.7273\n",
            "Epoch 143/200\n",
            "5/5 [==============================] - 0s 4ms/step - loss: 0.9108 - accuracy: 0.7348\n",
            "Epoch 144/200\n",
            "5/5 [==============================] - 0s 3ms/step - loss: 0.9082 - accuracy: 0.7348\n",
            "Epoch 145/200\n",
            "5/5 [==============================] - 0s 3ms/step - loss: 0.9058 - accuracy: 0.7273\n",
            "Epoch 146/200\n",
            "5/5 [==============================] - 0s 5ms/step - loss: 0.9034 - accuracy: 0.7273\n",
            "Epoch 147/200\n",
            "5/5 [==============================] - 0s 3ms/step - loss: 0.9011 - accuracy: 0.7197\n",
            "Epoch 148/200\n",
            "5/5 [==============================] - 0s 4ms/step - loss: 0.8990 - accuracy: 0.7121\n",
            "Epoch 149/200\n",
            "5/5 [==============================] - 0s 4ms/step - loss: 0.8966 - accuracy: 0.7197\n",
            "Epoch 150/200\n",
            "5/5 [==============================] - 0s 4ms/step - loss: 0.8942 - accuracy: 0.7273\n",
            "Epoch 151/200\n",
            "5/5 [==============================] - 0s 3ms/step - loss: 0.8919 - accuracy: 0.7273\n",
            "Epoch 152/200\n",
            "5/5 [==============================] - 0s 3ms/step - loss: 0.8892 - accuracy: 0.7273\n",
            "Epoch 153/200\n",
            "5/5 [==============================] - 0s 3ms/step - loss: 0.8869 - accuracy: 0.7273\n",
            "Epoch 154/200\n",
            "5/5 [==============================] - 0s 3ms/step - loss: 0.8847 - accuracy: 0.7348\n",
            "Epoch 155/200\n",
            "5/5 [==============================] - 0s 3ms/step - loss: 0.8830 - accuracy: 0.7197\n",
            "Epoch 156/200\n",
            "5/5 [==============================] - 0s 3ms/step - loss: 0.8807 - accuracy: 0.7197\n",
            "Epoch 157/200\n",
            "5/5 [==============================] - 0s 3ms/step - loss: 0.8782 - accuracy: 0.7273\n",
            "Epoch 158/200\n",
            "5/5 [==============================] - 0s 4ms/step - loss: 0.8758 - accuracy: 0.7348\n",
            "Epoch 159/200\n",
            "5/5 [==============================] - 0s 3ms/step - loss: 0.8730 - accuracy: 0.7348\n",
            "Epoch 160/200\n",
            "5/5 [==============================] - 0s 3ms/step - loss: 0.8706 - accuracy: 0.7424\n",
            "Epoch 161/200\n",
            "5/5 [==============================] - 0s 3ms/step - loss: 0.8684 - accuracy: 0.7348\n",
            "Epoch 162/200\n",
            "5/5 [==============================] - 0s 4ms/step - loss: 0.8659 - accuracy: 0.7348\n",
            "Epoch 163/200\n",
            "5/5 [==============================] - 0s 3ms/step - loss: 0.8638 - accuracy: 0.7348\n",
            "Epoch 164/200\n",
            "5/5 [==============================] - 0s 3ms/step - loss: 0.8613 - accuracy: 0.7348\n",
            "Epoch 165/200\n",
            "5/5 [==============================] - 0s 3ms/step - loss: 0.8594 - accuracy: 0.7348\n",
            "Epoch 166/200\n",
            "5/5 [==============================] - 0s 3ms/step - loss: 0.8572 - accuracy: 0.7348\n",
            "Epoch 167/200\n",
            "5/5 [==============================] - 0s 4ms/step - loss: 0.8551 - accuracy: 0.7348\n",
            "Epoch 168/200\n",
            "5/5 [==============================] - 0s 4ms/step - loss: 0.8532 - accuracy: 0.7500\n",
            "Epoch 169/200\n",
            "5/5 [==============================] - 0s 3ms/step - loss: 0.8509 - accuracy: 0.7500\n",
            "Epoch 170/200\n",
            "5/5 [==============================] - 0s 3ms/step - loss: 0.8486 - accuracy: 0.7500\n",
            "Epoch 171/200\n",
            "5/5 [==============================] - 0s 3ms/step - loss: 0.8469 - accuracy: 0.7424\n",
            "Epoch 172/200\n",
            "5/5 [==============================] - 0s 4ms/step - loss: 0.8440 - accuracy: 0.7424\n",
            "Epoch 173/200\n",
            "5/5 [==============================] - 0s 3ms/step - loss: 0.8418 - accuracy: 0.7424\n",
            "Epoch 174/200\n",
            "5/5 [==============================] - 0s 3ms/step - loss: 0.8398 - accuracy: 0.7424\n",
            "Epoch 175/200\n",
            "5/5 [==============================] - 0s 3ms/step - loss: 0.8376 - accuracy: 0.7424\n",
            "Epoch 176/200\n",
            "5/5 [==============================] - 0s 3ms/step - loss: 0.8356 - accuracy: 0.7500\n",
            "Epoch 177/200\n",
            "5/5 [==============================] - 0s 4ms/step - loss: 0.8340 - accuracy: 0.7500\n",
            "Epoch 178/200\n",
            "5/5 [==============================] - 0s 3ms/step - loss: 0.8321 - accuracy: 0.7500\n",
            "Epoch 179/200\n",
            "5/5 [==============================] - 0s 4ms/step - loss: 0.8295 - accuracy: 0.7576\n",
            "Epoch 180/200\n",
            "5/5 [==============================] - 0s 3ms/step - loss: 0.8280 - accuracy: 0.7576\n",
            "Epoch 181/200\n",
            "5/5 [==============================] - 0s 4ms/step - loss: 0.8256 - accuracy: 0.7576\n",
            "Epoch 182/200\n",
            "5/5 [==============================] - 0s 4ms/step - loss: 0.8236 - accuracy: 0.7652\n",
            "Epoch 183/200\n",
            "5/5 [==============================] - 0s 3ms/step - loss: 0.8218 - accuracy: 0.7652\n",
            "Epoch 184/200\n",
            "5/5 [==============================] - 0s 3ms/step - loss: 0.8195 - accuracy: 0.7727\n",
            "Epoch 185/200\n",
            "5/5 [==============================] - 0s 3ms/step - loss: 0.8176 - accuracy: 0.7727\n",
            "Epoch 186/200\n",
            "5/5 [==============================] - 0s 3ms/step - loss: 0.8155 - accuracy: 0.7727\n",
            "Epoch 187/200\n",
            "5/5 [==============================] - 0s 3ms/step - loss: 0.8137 - accuracy: 0.7652\n",
            "Epoch 188/200\n",
            "5/5 [==============================] - 0s 3ms/step - loss: 0.8114 - accuracy: 0.7652\n",
            "Epoch 189/200\n",
            "5/5 [==============================] - 0s 3ms/step - loss: 0.8096 - accuracy: 0.7803\n",
            "Epoch 190/200\n",
            "5/5 [==============================] - 0s 5ms/step - loss: 0.8082 - accuracy: 0.7879\n",
            "Epoch 191/200\n",
            "5/5 [==============================] - 0s 3ms/step - loss: 0.8062 - accuracy: 0.7879\n",
            "Epoch 192/200\n",
            "5/5 [==============================] - 0s 4ms/step - loss: 0.8043 - accuracy: 0.7879\n",
            "Epoch 193/200\n",
            "5/5 [==============================] - 0s 3ms/step - loss: 0.8029 - accuracy: 0.7879\n",
            "Epoch 194/200\n",
            "5/5 [==============================] - 0s 3ms/step - loss: 0.8014 - accuracy: 0.7803\n",
            "Epoch 195/200\n",
            "5/5 [==============================] - 0s 3ms/step - loss: 0.7996 - accuracy: 0.7727\n",
            "Epoch 196/200\n",
            "5/5 [==============================] - 0s 3ms/step - loss: 0.7983 - accuracy: 0.7652\n",
            "Epoch 197/200\n",
            "5/5 [==============================] - 0s 3ms/step - loss: 0.7968 - accuracy: 0.7576\n",
            "Epoch 198/200\n",
            "5/5 [==============================] - 0s 3ms/step - loss: 0.7951 - accuracy: 0.7576\n",
            "Epoch 199/200\n",
            "5/5 [==============================] - 0s 3ms/step - loss: 0.7935 - accuracy: 0.7652\n",
            "Epoch 200/200\n",
            "5/5 [==============================] - 0s 3ms/step - loss: 0.7918 - accuracy: 0.7652\n"
          ]
        },
        {
          "output_type": "execute_result",
          "data": {
            "text/plain": [
              "<keras.src.callbacks.History at 0x7e7142f13340>"
            ]
          },
          "metadata": {},
          "execution_count": 69
        }
      ]
    },
    {
      "cell_type": "code",
      "source": [
        "my_test =\"lest play ball\"\n",
        "my_test_avg = senteence_to_avg(my_test)\n",
        "my_test_avg = np.array([my_test_avg])\n",
        "result = model.predict(my_test_avg)\n",
        "y_perd = np.argmax(result)\n",
        "label_to_emoji(y_perd)"
      ],
      "metadata": {
        "colab": {
          "base_uri": "https://localhost:8080/",
          "height": 53
        },
        "id": "owlFH_6g6X8I",
        "outputId": "aad9f003-6720-4ef5-8fed-5e2876dd7592"
      },
      "execution_count": 70,
      "outputs": [
        {
          "output_type": "stream",
          "name": "stdout",
          "text": [
            "1/1 [==============================] - 0s 80ms/step\n"
          ]
        },
        {
          "output_type": "execute_result",
          "data": {
            "text/plain": [
              "'🏐'"
            ],
            "application/vnd.google.colaboratory.intrinsic+json": {
              "type": "string"
            }
          },
          "metadata": {},
          "execution_count": 70
        }
      ]
    }
  ]
}