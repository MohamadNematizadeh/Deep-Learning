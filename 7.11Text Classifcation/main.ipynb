{
  "cells": [
    {
      "cell_type": "code",
      "execution_count": 53,
      "metadata": {
        "colab": {
          "base_uri": "https://localhost:8080/"
        },
        "id": "pIy4YpX4m_vO",
        "outputId": "c97d69ad-2a18-40bd-da98-cfca2fdbbd5c"
      },
      "outputs": [
        {
          "name": "stdout",
          "output_type": "stream",
          "text": [
            "1/1 [==============================] - 0s 49ms/step\n",
            "⚾\n",
            "Inference time:  0.0010221195220947265\n"
          ]
        }
      ],
      "source": [
        "import time\n",
        "import tensorflow as tf\n",
        "import numpy as np\n",
        "import pandas as pd\n",
        "from drive.MyDrive.EmojiTextClassifier import EmojiTextClassifier\n",
        "\n",
        "def read_csv(file_path):\n",
        "        df = pd.read_csv(file_path)\n",
        "        X = np.array(df[\"sentence\"])\n",
        "        Y = np.array(df[\"label\"])\n",
        "        return X,Y\n",
        "\n",
        "emojitext = EmojiTextClassifier()\n",
        "emojitext.load_dataset(read_csv)\n",
        "emojitext.load_feature_vectors(\"/content/drive/MyDrive/dataset/glov.6b/glove.6B.300d.txt\")\n",
        "emojitext.load_model(\"/content/drive/MyDrive/dataset/Emoji_Text_Classification/Emoji_Text_Classification_300d.h5\")\n",
        "user_sentence = \"lest play ball\"\n",
        "start = time.time()\n",
        "emojitext.predict(user_sentence,300)\n",
        "print(\"Inference time: \",(time.time() - start)/ 100 )"
      ]
    }
  ],
  "metadata": {
    "colab": {
      "provenance": []
    },
    "kernelspec": {
      "display_name": "Python 3",
      "name": "python3"
    },
    "language_info": {
      "name": "python"
    }
  },
  "nbformat": 4,
  "nbformat_minor": 0
}
