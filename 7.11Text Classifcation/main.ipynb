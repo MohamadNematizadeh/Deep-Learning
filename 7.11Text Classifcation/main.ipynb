{
  "cells": [
    {
      "cell_type": "code",
      "execution_count": 4,
      "metadata": {
        "colab": {
          "base_uri": "https://localhost:8080/"
        },
        "id": "pIy4YpX4m_vO",
        "outputId": "005034c4-d122-4c9c-aff0-8edfc31eed83"
      },
      "outputs": [
        {
          "name": "stdout",
          "output_type": "stream",
          "text": [
            "1/1 [==============================] - 0s 88ms/step\n",
            "⚾\n"
          ]
        }
      ],
      "source": [
        "import tensorflow as tf\n",
        "import numpy as np\n",
        "import pandas as pd\n",
        "from drive.MyDrive.EmojiTextClassifier import EmojiTextClassifier\n",
        "\n",
        "def read_csv(file_path):\n",
        "        df = pd.read_csv(file_path)\n",
        "        X = np.array(df[\"sentence\"])\n",
        "        Y = np.array(df[\"label\"])\n",
        "        return X,Y\n",
        "\n",
        "emojitext = EmojiTextClassifier()\n",
        "emojitext.load_dataset(read_csv)\n",
        "emojitext.load_feature_vectors()\n",
        "\n",
        "emojitext.load_model()\n",
        "emojitext.predict(\"i paly basketball\")"
      ]
    }
  ],
  "metadata": {
    "colab": {
      "provenance": []
    },
    "kernelspec": {
      "display_name": "Python 3",
      "name": "python3"
    },
    "language_info": {
      "name": "python"
    }
  },
  "nbformat": 4,
  "nbformat_minor": 0
}
